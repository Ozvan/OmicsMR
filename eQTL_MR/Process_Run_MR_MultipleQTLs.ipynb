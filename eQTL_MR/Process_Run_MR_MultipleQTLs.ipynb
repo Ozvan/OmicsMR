{
  "cells": [
    {
      "cell_type": "code",
      "execution_count": null,
      "id": "ddffd17f",
      "metadata": {
        "id": "ddffd17f"
      },
      "outputs": [],
      "source": [
        ".libPaths(\"/lustre/groups/itg/teams/zeggini/projects/T2D-diamante/T2DGGI_MR/Rpackages\")\n",
        "##Paths to specify by the user:\n",
        "pathMR\n",
        "setwd(pathMR)\n",
        "pathMR_Results\n",
        "pathMR_ARIC_EA\n",
        "pathMR_ARIC_AA\n",
        "pathMR_GENOA_AA\n",
        "pathMR_GENOA_EA\n",
        "path_T2DGGI\n",
        "path_1kG #Path with bfiles from the 1000Genomes project\n",
        "path_code #Path of the scripts with MR functions\n",
        "path_Borges = #Path with summary statistics from Borges et al. 2022\n",
        "pathMR_GALAII_PR =\n",
        "pathMR_GALAII_MX =\n",
        "pathMR_SAGE_AA =\n",
        "pathMR_GTEx_EUR =\n",
        "path_eQTLGen ="
      ]
    },
    {
      "cell_type": "code",
      "execution_count": null,
      "id": "26ac711f",
      "metadata": {
        "id": "26ac711f"
      },
      "outputs": [],
      "source": [
        "library(data.table)\n",
        "library(genetics.binaRies)\n",
        "library(TwoSampleMR)"
      ]
    },
    {
      "cell_type": "markdown",
      "id": "dd1a9ed7",
      "metadata": {
        "id": "dd1a9ed7"
      },
      "source": [
        "# Functions needed to run MR\n"
      ]
    },
    {
      "cell_type": "markdown",
      "id": "1d090c77",
      "metadata": {
        "id": "1d090c77"
      },
      "source": [
        "## Examples of import functions for ARIC and UKB"
      ]
    },
    {
      "cell_type": "code",
      "execution_count": null,
      "id": "f4a345a4",
      "metadata": {
        "id": "f4a345a4"
      },
      "outputs": [],
      "source": [
        "#Function to import data and get the right file names (adapted to ARIC data)\n",
        "#Perform correction if needed\n",
        "Get_data_ARIC <- function(import.args){\n",
        "    #This function needs filename, pathdata and correction, qtl.file.out as extra.args\n",
        "    #Also needs qtl.out.prefix and qtl.out.suffix to save file\n",
        "    qtl <- fread(paste0(import.args[[\"path.qtl.in\"]], import.args[[\"filename\"]]))\n",
        "    qtl <- qtl[, .(chr=`#CHROM`,\n",
        "                     pos=POS,\n",
        "                     pval=P,\n",
        "                     beta=BETA,\n",
        "                     se=SE,\n",
        "                     eaf=ifelse(A1==REF, 1-A1_FREQ, A1_FREQ),\n",
        "                     # n,\n",
        "                     rsid=ID,\n",
        "                     ea=ALT,\n",
        "                     nea=REF)]\n",
        "    #If the p-values need to be transformed, adjust using the given correction\n",
        "    #In that case, need to rewrite the file for clumping (need to change the name so that it matches the other functions after)\n",
        "    if(!is.na(import.args$correction)){\n",
        "        qtl[,\"pval\"] <- p.adjust(unlist(qtl[,\"pval\"]), method = import.args[[\"correction\"]])\n",
        "        fwrite(qtl, paste0(import.args[[\"path.qtl.out\"]], \"forclumping.\", import.args[[\"correction\"]], \".\", import.args[[\"filename\"]]), sep = \"\\t\")\n",
        "    }else{\n",
        "        fwrite(qtl, paste0(import.args[[\"path.qtl.out\"]], \"forclumping.\", import.args[[\"filename\"]]), sep = \"\\t\")\n",
        "    }\n",
        "    qtl\n",
        "}"
      ]
    },
    {
      "cell_type": "markdown",
      "id": "ecda270e",
      "metadata": {
        "id": "ecda270e"
      },
      "source": [
        "## Clumping functions"
      ]
    },
    {
      "cell_type": "code",
      "execution_count": null,
      "id": "e55fc164",
      "metadata": {
        "id": "e55fc164"
      },
      "outputs": [],
      "source": [
        "#Function to clump the data, check if the proxy is in T2DGGI datasets and compute Fstat\n",
        "Clump_proxies_Fstat <- function(ref.bfile.path, qtl.path, qtl.name, pval.thr, r2_thr = 0.001, kb_thr = 10000, plink = \"plink\", rsID, pval, qtl, t2d, bfile.path){\n",
        "    system(paste0(\"mkdir -p \", qtl.path, \"Clumping/\"))\n",
        "    output.qtl <- data.table()\n",
        "\n",
        "    #The firt arguments of the functions are for the clumping, and the last ones for the data\n",
        "    #Clump the variants\n",
        "    if(!file.exists(paste0(qtl.path, \"Clumping/\", qtl.name, \".clumped\"))) system(paste0(plink, \" --bfile \", ref.bfile.path, \" --clump-p1 \", pval.thr, \" --clump-r2 \", r2_thr, \" --clump-kb \", kb_thr, \" --clump \", qtl.path, qtl.name, \" --clump-snp-field \", rsID, \" --clump-field \", pval, \" --out \", qtl.path, \"Clumping/\", qtl.name))\n",
        "    #Import the clumping results\n",
        "    #Need to check if there are variants left after clumping, not the case for example if only ine significant variant but not in reference data\n",
        "    if(!file.exists(paste0(qtl.path, \"Clumping/\", qtl.name, \".clumped\"))) return(output.qtl)\n",
        "\n",
        "    clumping.res <- fread(paste0(qtl.path, \"Clumping/\", qtl.name, \".clumped\"))\n",
        "    clumped.ivs <- clumping.res$SNP\n",
        "\n",
        "    #Compute F-stat\n",
        "    qtl$snp_fstat <- (qtl$beta)^2/(qtl$se)^2\n",
        "\n",
        "    #Only keep the variants that are clumped\n",
        "    qtl[, iv:=ifelse(rsid %in% clumped.ivs & snp_fstat>=10, TRUE, FALSE)]\n",
        "\n",
        "    #Check which clumped IVs are not available in T2D of matching ancestry\n",
        "    need.proxy <- subset(qtl, iv)$rsid[which(!(subset(qtl, iv)$rsid %in% t2d$rs_id))]\n",
        "\n",
        "    ## Find proxies if IV not included in T2D sumstats\n",
        "    if(length(need.proxy)>0){\n",
        "        proxies <- NULL\n",
        "        iv=need.proxy[1]\n",
        "        for (iv in need.proxy){\n",
        "            cluster.snps <- unlist(strsplit(gsub(\"\\\\(1\\\\)\", \"\", clumping.res[SNP==iv, SP2]), split=\",\"))\n",
        "\n",
        "            # Check LD between iv and potential.proxy\n",
        "            ld.matrix <- ieugwasr::ld_matrix(c(iv, cluster.snps),\n",
        "                                           plink_bin = genetics.binaRies::get_plink_binary(),\n",
        "                                           bfile = ref.bfile.path)\n",
        "            #Take the corresponding iv and remove the correlation with itself\n",
        "            ld.vector <- ld.matrix[grep(rownames(ld.matrix), pattern = iv),-grep(rownames(ld.matrix), pattern = iv)]\n",
        "            rm(ld.matrix)\n",
        "\n",
        "            #Check if any of the proxies is in t2d\n",
        "            all.potential.proxies = sub(\"_.*\", \"\", names(which((ld.vector**2)>0.8)))\n",
        "            if(nrow(subset(t2d[rs_id %in% all.potential.proxies]))>0){\n",
        "                for (potential.proxy in sub(\"_.*\", \"\", names(which((ld.vector**2)>0.8)))){\n",
        "                # Check if potential.proxy is in T2D data\n",
        "                if(nrow(t2d[rs_id==potential.proxy])!=0) break\n",
        "                }\n",
        "                proxies <- c(proxies, potential.proxy)\n",
        "            }\n",
        "        }\n",
        "\n",
        "    ## Update IVs in sig.qtl\n",
        "    qtl[rsid %in% need.proxy, iv:=FALSE]\n",
        "    qtl[rsid %in% proxies, iv:=TRUE]\n",
        "\n",
        "    }\n",
        "\n",
        "    output.qtl <- rbind(output.qtl, qtl[iv==TRUE])\n",
        "    output.qtl\n",
        "}"
      ]
    },
    {
      "cell_type": "markdown",
      "id": "808fe4dd",
      "metadata": {
        "id": "808fe4dd"
      },
      "source": [
        "## Wrapper to apply the different functions"
      ]
    },
    {
      "cell_type": "code",
      "execution_count": null,
      "id": "b6c723e1",
      "metadata": {
        "id": "b6c723e1"
      },
      "outputs": [],
      "source": [
        "###Import the files and change the names\n",
        "#Loop over molecular traits\n",
        "#Information to be provided by the user:at leasat study.qtl,type of qtl and ancestry\n",
        "wrap.findivs <- function(info.datasets, info.t2d, qtl.study, ancestry, qtl.type, function.import.qtl, import.extra.args = NULL, params.eQTL){\n",
        "    #function.import.qtl is a function needed to import the data that handle the columns names\n",
        "    #params.eQTL is needed if eQTL are analysed and contains the column names of the input file in a list with names:\n",
        "    #list(chr, pos, pval, beta, se, eaf, ea, nea, rsid, mol.trait))\n",
        "    info.study <- subset(info.datasets, STUDY == qtl.study & ANCESTRY == ancestry & QTL_TYPE == qtl.type)\n",
        "    tissue = info.study$TISSUE\n",
        "    build=info.study$BUILD\n",
        "    correction = info.study$CORRECTION\n",
        "    pval.thr = info.study$PVAL_THR\n",
        "    ancestry_T2DGGI = info.study$ANCESTRY_T2D\n",
        "    path.in.qtl = info.study$PATH_QTL\n",
        "    prefix.in.qtl = info.study$PREFIX_QTL\n",
        "    suffix.in.qtl = info.study$SUFFIX_QTL\n",
        "    ivs.dt <- data.table::data.table()\n",
        "    path.output = paste0(pathMR, \"dataforMR/\")\n",
        "    # Read ancestry-specific T2D data\n",
        "    info.t2d.ancestry <- subset(info.t2d, ancestry == ancestry_T2DGGI)\n",
        "    t2d <- fread(paste0(path_T2DGGI, ancestry_T2DGGI, \"_MetalFixed_LDSC-CORR_Results1TBL_rsid.gz\"))\n",
        "    t2d <- t2d[, .(chr.b38=as.integer(sub(\"chr\", \"\", CHR_HG38)),\n",
        "                 pos.b38=POS_HG38,\n",
        "                 chr.b37=as.integer(sub(\"chr\", \"\", CHR_HG19)),\n",
        "                 pos.b37=POS_HG19,\n",
        "                 rs_id=RSID,\n",
        "                 p_value=`P-value`,\n",
        "                 beta=Effect,\n",
        "                 standard_error=StdErr,\n",
        "                 effect_allele_frequency=Freq1,\n",
        "                 n=info.t2d.ancestry$n.cases+info.t2d.ancestry$n.controls,\n",
        "                 ncases=info.t2d.ancestry$n.cases,\n",
        "                 effect_allele=toupper(Allele1),\n",
        "                 other_allele=toupper(Allele2))]\n",
        "    pathMR_anc = paste0(pathMR, \"datasets/\", qtl.type, \"_\", qtl.study, \"_\", ancestry, \"/\")\n",
        "    #It is supposed that the summary statistics are in pathMR_anc\n",
        "    #Create directory if does not exist\n",
        "    system(paste0(\"mkdir -p \", pathMR_anc))\n",
        "\n",
        "    #Name for the output files if pQTL or metaboQTL as multiple datasets will be concatenated\n",
        "    if(qtl.type %in% c(\"pQTL\", \"metaboQTL\")){\n",
        "        list_files <- intersect(list.files(path.in.qtl, pattern = paste0(\"^\", prefix.in.qtl)), list.files(path.in.qtl, pattern = paste0(suffix.in.qtl, \"$\")))\n",
        "        #Loop over molecular traits to get the data and transform the p-values if needed\n",
        "        data_allQTL <- lapply(list_files, function(mol.trait) function.import.qtl(import.args = c(import.extra.args, path.qtl.in = path.in.qtl, filename = mol.trait, path.qtl.out = pathMR_anc)))\n",
        "        #Change the file names if correction and change only the mol trait name\n",
        "        if(!is.na(correction)){\n",
        "            names.qtls <- names(data_allQTL) <- paste0(unlist(sapply(list_files, function(z) gsub(z, pattern = paste0(prefix.in.qtl, \"|\", suffix.in.qtl), replacement = \"\"))))\n",
        "            prefix.in.qtl <- paste0(\"fdr.\", prefix.in.qtl)\n",
        "        }else{\n",
        "            names.qtls <- names(data_allQTL) <- paste0(unlist(sapply(list_files, function(z) gsub(z, pattern = paste0(prefix.in.qtl, \"|\", suffix.in.qtl), replacement = \"\"))))\n",
        "        }\n",
        "        #molecular traits that have a significant pQTL\n",
        "        names.qtls.sig <- names(data_allQTL)[which(unlist(lapply(data_allQTL, function(qtl) min(qtl[,\"pval\"])<pval.thr)))]\n",
        "        #Clump the data\n",
        "        data_allQTL.Clump.Fstat10 <- lapply(names.qtls.sig, function(mol.trait){ tmp.file <- Clump_proxies_Fstat(ref.bfile.path = paste0(path_1kG, ancestry_T2DGGI),\n",
        "                                        qtl.path = pathMR_anc, pval.thr = pval.thr, r2_thr = 0.001, kb_thr = 10000,\n",
        "                                        qtl.name = paste0(\"forclumping.\", prefix.in.qtl, mol.trait, suffix.in.qtl), plink = \"plink\",\n",
        "                                        rsID = \"rsid\", pval = \"pval\", qtl = data_allQTL[[mol.trait]], t2d = t2d) ;\n",
        "                                        tmp.file$mol.trait <- mol.trait ;\n",
        "                                        tmp.file})\n",
        "        names(data_allQTL.Clump.Fstat10) <- names.qtls.sig\n",
        "    }else{\n",
        "        #if eQTL, no need to loop over files\n",
        "        qtl <- fread(paste0(pathMR_anc, prefix.in.qtl, ancestry, suffix.in.qtl))\n",
        "        qtl <- setnames(qtl, old=c(params.eQTL$chr, params.eQTL$pos, params.eQTL$pval, params.eQTL$beta, params.eQTL$se, params.eQTL$eaf, params.eQTL$ea, params.eQTL$nea, params.eQTL$rsid, params.eQTL$mol.trait),\n",
        "                             new = c(\"chr\", \"pos\", \"pval\", \"beta\", \"se\", \"eaf\", \"ea\", \"nea\", \"rsid\", \"mol.trait\"))\n",
        "        names.qtls <- unique(qtl$mol.trait)\n",
        "        #Name of the molecular traits with at least one qtl\n",
        "        names.qtls.sig <- unique(subset(qtl, pval < pval.thr)$mol.trait)\n",
        "        #Create empty list to get the clump files\n",
        "        data_allQTL.Clump.Fstat10 <- vector(length(names.qtls.sig), mode = \"list\")\n",
        "        names(data_allQTL.Clump.Fstat10) <- names.qtls.sig\n",
        "        #Loop only over the molecular traits with qtls\n",
        "        for (cur.trait in names.qtls.sig){\n",
        "            qtl.cur <- subset(qtl, mol.trait == cur.trait)\n",
        "            #Export a tmp file with the corresponding gene\n",
        "            fwrite(qtl.cur, file = paste0(pathMR_anc, cur.trait, \".txt.gz\"), sep = \"\\t\")\n",
        "            data_allQTL.Clump.Fstat10[[cur.trait]] <- Clump_proxies_Fstat(ref.bfile.path = paste0(path_1kG, ancestry_T2DGGI),\n",
        "                                qtl.path = pathMR_anc, pval.thr = pval.thr, r2_thr = 0.001, kb_thr = 10000,\n",
        "                                qtl.name = paste0(cur.trait, \".txt.gz\"), plink = \"plink\",\n",
        "                                rsID = \"rsid\", pval = \"pval\", qtl = subset(qtl, mol.trait == cur.trait), t2d = t2d)\n",
        "            #Give name of the trait only if there is an output from clumping\n",
        "            if(nrow(data_allQTL.Clump.Fstat10[[cur.trait]])>0) data_allQTL.Clump.Fstat10[[cur.trait]]$mol.trait <- cur.trait\n",
        "            system(paste0(\"rm \", pathMR_anc, cur.trait, \".txt.gz\"))\n",
        "        }\n",
        "    }\n",
        "    ##############REST OF THE FUNCTION IS COMMON TO ALL DATASETS\n",
        "    #Check if some clumping gives no output (error from the clumping function)\n",
        "    if(any(unlist(lapply(data_allQTL.Clump.Fstat10, function(z) nrow(z)==0)))){\n",
        "        qtl.noclump <- names(which(unlist(lapply(data_allQTL.Clump.Fstat10, function(z) nrow(z) ==0))))\n",
        "        #Remove these qtl from the list and from the qtl sig\n",
        "        data_allQTL.Clump.Fstat10 <- data_allQTL.Clump.Fstat10[-which(names(data_allQTL.Clump.Fstat10) %in% qtl.noclump)]\n",
        "        names.qtls.sig <- names.qtls.sig[-which(names.qtls.sig %in% qtl.noclump)]\n",
        "    }\n",
        "\n",
        "    #Rename to match the format of pQTL and metaboQTL\n",
        "    names(data_allQTL.Clump.Fstat10) <- paste0(qtl.type, \"__\", qtl.study, \"__\", tissue, \"__\", names.qtls.sig, \"__\", ancestry, \"__\", build)\n",
        "\n",
        "    #Make a dataframe with all IVs\n",
        "    ivs.dt <- do.call(rbind, lapply(names(data_allQTL.Clump.Fstat10), function(name.qtl)\n",
        "            unique(rbind(ivs.dt, data.table::data.table(rsid=data_allQTL.Clump.Fstat10[[name.qtl]][iv==TRUE, rsid],\n",
        "                                                        study=qtl.study,\n",
        "                                                        ancestry = ancestry,\n",
        "                                                        tissue=tissue,\n",
        "                                                        mol.trait=strsplit(name.qtl, split = \"__\")[[1]][4])))))\n",
        "    #Add the molecular traits without any IVs, just to keep the information\n",
        "    if(!(all(names.qtls %in% names.qtls.sig))){\n",
        "        ivs.dt <- rbind(ivs.dt, data.table(rsid = \"NO_IVs\", study = qtl.study, ancestry = ancestry, tissue = tissue,\n",
        "                                       mol.trait = unlist(sapply(names.qtls[-which(names.qtls %in% names.qtls.sig)], function(z) strsplit(z, split = \"__\")[[1]][4]))))\n",
        "    }\n",
        "\n",
        "    ## Output clumped QTL data for all significant molecular traits in qtl.study\n",
        "    clumped.qtl <- do.call(rbind, data_allQTL.Clump.Fstat10)\n",
        "\n",
        "    #Change the column names for MR functions\n",
        "    clumped.qtl <- clumped.qtl[, .(chromosome=chr,\n",
        "                                   base_pair_location = pos,\n",
        "                                   p_value = pval,\n",
        "                                   beta = beta,\n",
        "                                   standard_error = se,\n",
        "                                   effect_allele_frequency = eaf,\n",
        "                                   rs_id = rsid,\n",
        "                                   effect_allele = ea,\n",
        "                                   other_allele = nea,\n",
        "                                   snp_fstat = snp_fstat,\n",
        "                                    mol.trait = mol.trait,\n",
        "                                   n = info.study$N)]\n",
        "\n",
        "    data.table::fwrite(clumped.qtl, paste0(path.output, \"clumped__\", qtl.type, \"__\", qtl.study, \"__\", tissue, \"__\", ancestry, \"__\", build, \".txt\"))\n",
        "\n",
        "    ## Prepare final T2D file containing all IVs for all QTL studies (can be done per study)\n",
        "    #Keep the corresponding build\n",
        "    t2d.ivs <- subset(t2d, rs_id %in% ivs.dt$rsid[grepl(ivs.dt$rsid, pattern = \"rs\")])\n",
        "    if(build == \"37\"){\n",
        "        t2d.ivs <- t2d.ivs[, c(\"chr.b38\", \"pos.b38\"):=NULL]\n",
        "        colnames(t2d.ivs)[1:2] <- c(\"chromosome\", \"base_pair_location\")\n",
        "    }else{\n",
        "        t2d.ivs <- t2d.ivs[, c(\"chr.b37\", \"pos.b37\"):=NULL]\n",
        "        colnames(t2d.ivs)[1:2] <- c(\"chromosome\", \"base_pair_location\")\n",
        "    }\n",
        "    data.table::fwrite(t2d.ivs, paste0(path.output, \"clumped__T2D__\", qtl.type, \"__\", qtl.study, \"__\", tissue, \"__\", ancestry, \"__\", build, \".txt.gz\"))\n",
        "\n",
        "    ## Output all IVs with columns: rsid, study, tissue and molecular trait\n",
        "    #Export this file to have information on qtl without any IV\n",
        "    data.table::fwrite(ivs.dt, paste0(path.output, \"ivs__\", qtl.type, \"__\", qtl.study, \"__\", tissue, \"__\", ancestry, \"__\", build, \".txt\"))\n",
        "}"
      ]
    },
    {
      "cell_type": "markdown",
      "id": "7a982998",
      "metadata": {
        "id": "7a982998"
      },
      "source": [
        "# Information needed on the datasets to run the MR analysis"
      ]
    },
    {
      "cell_type": "code",
      "execution_count": null,
      "id": "d4b69309",
      "metadata": {
        "id": "d4b69309"
      },
      "outputs": [],
      "source": [
        "##Dataframe with the different datasets to use\n",
        "#\"/lustre/groups/itg/shared/referenceData/sumstats/Borges_2022_UKBNMR/\"\n",
        "info.datasets.forMR <- data.frame(STUDY = c(\"ARIC\", \"ARIC\", \"GENOA\", \"GENOA\", \"UKB\", \"GALAII\", \"GALAII\", \"SAGE\", \"eQTLGen\"),\n",
        "                                 TISSUE = c(\"plasma\", \"plasma\", \"plasma\", \"plasma\", \"plasma\", \"plasma\", \"plasma\", \"plasma\", \"plasma\"),\n",
        "                                 BUILD = c(\"38\", \"38\", \"37\", \"37\", \"37\", \"38\", \"38\", \"38\", \"37\"),\n",
        "                                 QTL_TYPE = c(\"pQTL\", \"pQTL\", \"eQTL\", \"eQTL\", \"metaboQTL\", \"eQTL\", \"eQTL\", \"eQTL\", \"eQTL\"),\n",
        "                                 CORRECTION = c(\"fdr\", \"fdr\", NA, NA, NA, NA, NA, NA, NA),\n",
        "                                  #Here we put 1 as pval thr for GALAII as results have already been filtered, same for eQTLGen\n",
        "                                 PVAL_THR = c(0.05, 0.05, 5e-4, 5e-4, 5e-8, 1, 1, 1, 1),\n",
        "                                 ANCESTRY = c(\"EA\", \"AA\", \"AA\", \"EA\", \"EUR\", \"PR\", \"MX\", \"AA\", \"EUR\"),\n",
        "                                 ANCESTRY_T2D = c(\"EUR\", \"AFR\", \"AFR\", \"EUR\", \"EUR\", \"AMR\", \"AMR\", \"AFR\", \"EUR\"),\n",
        "                                 N = c(7213, 1871, 1032, 801, 115078, 893, 784, 757, 31684),\n",
        "                                 PATH_QTL = c(pathMR_ARIC_EA, pathMR_ARIC_AA, pathMR_GENOA_AA, pathMR_GENOA_EA, path_Borges, pathMR_GALAII_PR, pathMR_GALAII_MX, pathMR_SAGE_AA, path_eQTLGen),\n",
        "                                 PREFIX_QTL = c(\"\", \"\", \"GENOA_\", \"GENOA_\", \"met-d-\", \"allchr.pairseQTLTRUE.more.galasage.\", \"allchr.pairseQTLTRUE.more.galasage.\", \"allchr.pairseQTLTRUE.more.galasage.\", \"2019-12-11-cis-eQTLsFDR0.05-ProbeLevel-CohortInfoRemoved-BonferroniAdded.WithBetaSe.\"),\n",
        "                                 SUFFIX_QTL = c(\".PHENO1.glm.linear.gz\", \".PHENO1.glm.linear.gz\", \"_summary_statistics.txt.gz\", \"_summary_statistics.txt.gz\", \".vcf.gz\", \".hg38.txt.gz\", \".hg38.txt.gz\", \".hg38.txt.gz\", \".txt.gz\"))\n"
      ]
    },
    {
      "cell_type": "code",
      "execution_count": null,
      "id": "6dc062ad",
      "metadata": {
        "id": "6dc062ad"
      },
      "outputs": [],
      "source": [
        "#Number of cases and controls in each of the ancestries (numbers obtained from Suzuki et al. 2024)\n",
        "info.T2DGGI <- data.frame(ancestry = c(\"AFR\", \"EAS\", \"EUR\", \"AMR\", \"SAS\"),\n",
        "                         n.cases = c(50251, 88109, 242283, 29375, 16832),\n",
        "                         n.controls = c(103909, 339395, 1569734, 59368, 33767))"
      ]
    },
    {
      "cell_type": "markdown",
      "id": "1cb35879",
      "metadata": {
        "id": "1cb35879"
      },
      "source": [
        "# Apply to differnt datasets"
      ]
    },
    {
      "cell_type": "code",
      "execution_count": null,
      "id": "4311f509",
      "metadata": {
        "id": "4311f509"
      },
      "outputs": [],
      "source": [
        "##Apply on different datasets\n",
        "wrap.findivs(info.datasets.forMR, info.T2DGGI, qtl.study = \"ARIC\", ancestry = \"EA\", qtl.type = \"pQTL\", function.import.qtl = Get_data_ARIC, import.extra.args = list(correction = \"fdr\"))\n",
        "wrap.findivs(info.datasets.forMR, info.T2DGGI, qtl.study = \"GENOA\", ancestry = \"AA\", qtl.type = \"eQTL\", params.eQTL = list(chr = \"chr\", pos = \"ps\", pval = \"p_wald\", beta = \"beta\", se = \"se\", eaf = \"af\", ea = \"allele1\", nea = \"allele0\", rsid = \"rs\", mol.trait = \"GENE\"))\n",
        "wrap.findivs(info.datasets.forMR, info.T2DGGI, qtl.study = \"GENOA\", ancestry = \"EA\", qtl.type = \"eQTL\")\n",
        "wrap.findivs(info.datasets.forMR, info.T2DGGI, qtl.study = \"UKB\", ancestry = \"EUR\", qtl.type = \"metaboQTL\", function.import.qtl = Get_metabo_UKB, import.extra.args = list(pval.thr = 5e-8))\n",
        "##GALAII cohorts, including SAGE\n",
        "wrap.findivs(info.datasets.forMR, info.T2DGGI, qtl.study = \"GALAII\", ancestry = \"PR\", qtl.type = \"eQTL\", params.eQTL = list(chr = \"chr\", pos = \"pos\", pval = \"pval_nominal\", beta = \"slope\", se = \"slope_se\", eaf = \"maf\", ea = \"alt\", nea = \"ref\", rsid = \"variant_id\", mol.trait = \"gene_id\"))\n",
        "wrap.findivs(info.datasets.forMR, info.T2DGGI, qtl.study = \"GALAII\", ancestry = \"MX\", qtl.type = \"eQTL\", params.eQTL = list(chr = \"chr\", pos = \"pos\", pval = \"pval_nominal\", beta = \"slope\", se = \"slope_se\", eaf = \"maf\", ea = \"alt\", nea = \"ref\", rsid = \"variant_id\", mol.trait = \"gene_id\"))\n",
        "wrap.findivs(info.datasets.forMR, info.T2DGGI, qtl.study = \"SAGE\", ancestry = \"AA\", qtl.type = \"eQTL\", params.eQTL = list(chr = \"chr\", pos = \"pos\", pval = \"pval_nominal\", beta = \"slope\", se = \"slope_se\", eaf = \"maf\", ea = \"alt\", nea = \"ref\", rsid = \"variant_id\", mol.trait = \"gene_id\"))\n",
        "##GTEx\n",
        "wrap.findivs(info.datasets.forMR, info.T2DGGI, qtl.study = \"GTEx\", ancestry = \"EUR\", qtl.type = \"eQTL\", params.eQTL = list(chr = \"chr\", pos = \"pos\", pval = \"pval_nominal\", beta = \"slope\", se = \"slope_se\", eaf = \"maf\", ea = \"alt\", nea = \"ref\", rsid = \"variant_id\", mol.trait = \"gene_id\"))\n",
        "#eQTLGen\n",
        "wrap.findivs(info.datasets.forMR, info.T2DGGI, qtl.study = \"eQTLGen\", ancestry = \"EUR\", qtl.type = \"eQTL\", params.eQTL = list(chr = \"SNPChr\", pos = \"SNPPos\", pval = \"Pvalue\", beta = \"beta\", se = \"se\", eaf = \"Freq\", ea = \"AssessedAllele\", nea = \"OtherAllele\", rsid = \"SNP\", mol.trait = \"Gene\"))\n"
      ]
    },
    {
      "cell_type": "markdown",
      "id": "fae1479c",
      "metadata": {
        "id": "fae1479c"
      },
      "source": [
        "# MR\n",
        "Useful comment on MR-PRESSO: https://github.com/rondolab/MR-PRESSO/issues/9"
      ]
    },
    {
      "cell_type": "code",
      "execution_count": null,
      "id": "576aab3b",
      "metadata": {
        "id": "576aab3b"
      },
      "outputs": [],
      "source": [
        "#Import MR functions\n",
        "#The last lines have been removed, corresponding to test of the code\n",
        "source(paste0(path_code, \"MR_functions.R\"))\n",
        "data.path <- paste0(pathMR, \"dataforMR/\")\n"
      ]
    },
    {
      "cell_type": "code",
      "execution_count": null,
      "id": "b7f6dae1",
      "metadata": {
        "id": "b7f6dae1"
      },
      "outputs": [],
      "source": [
        "#Run on ARIC\n",
        "res.dt <- wrap.MR(exposure.lst= \"clumped_pQTL_ARIC_plasma_EA_38.txt\",\n",
        "                  t2d.filename=\"clumped_T2D_pQTL_ARIC_plasma_EUR_38.txt.gz\",\n",
        "                  ivs.path= paste0(data.path, \"ivs_pQTL_ARIC_plasma_EA_38.txt\"),\n",
        "                  data.path=data.path,\n",
        "                  output.file=paste0(pathMR_Results, \"mr_results_pqtl_ARIC_plasma_EA.txt\"))"
      ]
    },
    {
      "cell_type": "code",
      "execution_count": null,
      "id": "07ea5143",
      "metadata": {
        "id": "07ea5143"
      },
      "outputs": [],
      "source": [
        "#Run on GENOA AA\n",
        "system(paste0(\"mkdir -p \", pathMR, \"harmonizedMR/eqtl_GENOA_plasma_AA/\"))\n",
        "res.dt <- wrap.MR(exposure.lst= \"clumped__eQTL__GENOA__plasma__AA__37.txt\",\n",
        "                  t2d.filename=\"clumped__T2D__eQTL__GENOA__plasma__AFR__37.txt.gz\",\n",
        "                  ivs.path= paste0(data.path, \"ivs__eQTL__GENOA__plasma__AA__37.txt\"),\n",
        "                  data.path=data.path, Radial = F,\n",
        "                  output.file=paste0(pathMR_Results, \"mr_results_eqtl_GENOA_plasma_AA.txt\"),\n",
        "                  output.harmonized = paste0(pathMR, \"harmonizedMR/eqtl_GENOA_plasma_AA/eqtl_GENOA_plasma_AA_T2D_harmonized_\"))"
      ]
    },
    {
      "cell_type": "code",
      "execution_count": null,
      "id": "a30e92ca",
      "metadata": {
        "id": "a30e92ca"
      },
      "outputs": [],
      "source": [
        "#GENOA EA\n",
        "system(paste0(\"mkdir -p \", pathMR, \"harmonizedMR/eqtl_GENOA_plasma_EA/\"))\n",
        "res.dt <- wrap.MR(exposure.lst= \"clumped__eQTL__GENOA__plasma__EA__37.txt\",\n",
        "                  t2d.filename=\"clumped__T2D__eQTL__GENOA__plasma__EA__37.txt.gz\",\n",
        "                  ivs.path= paste0(data.path, \"ivs__eQTL__GENOA__plasma__EA__37.txt\"),\n",
        "                  data.path=data.path, Radial = F,\n",
        "                  output.file=paste0(pathMR_Results, \"mr_results_eqtl_GENOA_plasma_EA.txt\"),\n",
        "                  output.harmonized = paste0(pathMR, \"harmonizedMR/eqtl_GENOA_plasma_EA/eqtl_GENOA_plasma_EA_T2D_harmonized_\"))"
      ]
    },
    {
      "cell_type": "code",
      "execution_count": null,
      "id": "0efd8394",
      "metadata": {
        "id": "0efd8394"
      },
      "outputs": [],
      "source": [
        "#GALAII PR\n",
        "system(paste0(\"mkdir -p \", pathMR, \"harmonizedMR/eqtl_GALAII_plasma_PR/\"))\n",
        "res.dt <- wrap.MR(exposure.lst= \"clumped__eQTL__GALAII__plasma__PR__38.txt\",\n",
        "                  t2d.filename=\"clumped__T2D__eQTL__GALAII__plasma__PR__38.txt.gz\",\n",
        "                  ivs.path= paste0(data.path, \"ivs__eQTL__GALAII__plasma__PR__38.txt\"),\n",
        "                  data.path=data.path,\n",
        "                  output.file=paste0(pathMR_Results, \"mr_results_eqtl_GALAII_plasma_PR.txt\"),\n",
        "                  output.harmonized = paste0(pathMR, \"harmonizedMR/eqtl_GALAII_plasma_PR/eqtl_GALAII_plasma_PR_T2D_harmonized_\"),\n",
        "                 Radial = F)"
      ]
    },
    {
      "cell_type": "code",
      "execution_count": null,
      "id": "7e090a56",
      "metadata": {
        "id": "7e090a56"
      },
      "outputs": [],
      "source": [
        "#GALAII MX\n",
        "system(paste0(\"mkdir -p \", pathMR, \"harmonizedMR/eqtl_GALAII_plasma_MX/\"))\n",
        "res.dt <- wrap.MR(exposure.lst= \"clumped__eQTL__GALAII__plasma__MX__38.txt\",\n",
        "                  t2d.filename=\"clumped__T2D__eQTL__GALAII__plasma__MX__38.txt.gz\",\n",
        "                  ivs.path= paste0(data.path, \"ivs__eQTL__GALAII__plasma__MX__38.txt\"),\n",
        "                  data.path=data.path, Radial = F,\n",
        "                  output.file=paste0(pathMR_Results, \"mr_results_eqtl_GALAII_plasma_MX.txt\"),\n",
        "                  output.harmonized = paste0(pathMR, \"harmonizedMR/eqtl_GALAII_plasma_MX/eqtl_GALAII_plasma_MX_T2D_harmonized_\"))"
      ]
    },
    {
      "cell_type": "code",
      "execution_count": null,
      "id": "663caa05",
      "metadata": {
        "id": "663caa05"
      },
      "outputs": [],
      "source": [
        "#SAGE AA\n",
        "system(paste0(\"mkdir -p \", pathMR, \"harmonizedMR/eqtl_SAGE_plasma_AA/\"))\n",
        "res.dt <- wrap.MR(exposure.lst= \"clumped__eQTL__SAGE__plasma__AA__38.txt\",\n",
        "                  t2d.filename=\"clumped__T2D__eQTL__SAGE__plasma__AA__38.txt.gz\",\n",
        "                  ivs.path= paste0(data.path, \"ivs__eQTL__SAGE__plasma__AA__38.txt\"),\n",
        "                  data.path=data.path, Radial = F,\n",
        "                  output.file=paste0(pathMR_Results, \"/mr_results_eqtl_SAGE_plasma_AA.txt\"),\n",
        "                  output.harmonized = paste0(pathMR, \"harmonizedMR/eqtl_SAGE_plasma_AA/eqtl_SAGE_plasma_AA_T2D_harmonized_\"))"
      ]
    },
    {
      "cell_type": "code",
      "execution_count": null,
      "id": "ad2b5710",
      "metadata": {
        "id": "ad2b5710"
      },
      "outputs": [],
      "source": [
        "#eQTLGen EUR\n",
        "system(paste0(\"mkdir -p \", pathMR, \"harmonizedMR/eqtl_eQTLGen_plasma_EUR/\"))\n",
        "res.dt <- wrap.MR(exposure.lst= \"clumped__eQTL__eQTLGen__plasma__EUR__37.txt\",\n",
        "                  t2d.filename=\"clumped__T2D__eQTL__eQTLGen__plasma__EUR__37.txt.gz\",\n",
        "                  ivs.path= paste0(data.path, \"ivs__eQTL__eQTLGen__plasma__EUR__37.txt\"),\n",
        "                  data.path=data.path, Radial = F,\n",
        "                  output.file=paste0(pathMR_Results, \"/mr_results_eqtl_eQTLGen_plasma_EUR.txt\"),\n",
        "                  output.harmonized = paste0(pathMR, \"harmonizedMR/eqtl_eQTLGen_plasma_EUR/eqtl_eQTLGen_plasma_EUR_T2D_harmonized_\"))"
      ]
    }
  ],
  "metadata": {
    "kernelspec": {
      "display_name": "R",
      "language": "R",
      "name": "ir"
    },
    "language_info": {
      "codemirror_mode": "r",
      "file_extension": ".r",
      "mimetype": "text/x-r-source",
      "name": "R",
      "pygments_lexer": "r",
      "version": "4.2.0"
    },
    "colab": {
      "provenance": []
    }
  },
  "nbformat": 4,
  "nbformat_minor": 5
}