{
  "cells": [
    {
      "cell_type": "markdown",
      "source": [
        "This notebook contains the commands to pre-process the files to be used in the MR analysis using blood eQTL from different cohorts."
      ],
      "metadata": {
        "id": "ju_xPWhRDHe3"
      },
      "id": "ju_xPWhRDHe3"
    },
    {
      "cell_type": "code",
      "execution_count": null,
      "id": "2d6b5c43",
      "metadata": {
        "id": "2d6b5c43"
      },
      "outputs": [],
      "source": [
        "#Information to provide:\n",
        "pathMR #Path to run the MR analyses\n",
        "pathdata #Path with the datasets\n",
        "setwd(pathMR)\n",
        "path_GALA #Path to the summary statistics from the GALA study\n",
        "path_eQTLGen #Path to the summary statistics from the eQTLGen study"
      ]
    },
    {
      "cell_type": "code",
      "execution_count": null,
      "id": "df9f12d6",
      "metadata": {
        "id": "df9f12d6"
      },
      "outputs": [],
      "source": [
        "library(data.table)"
      ]
    },
    {
      "cell_type": "markdown",
      "id": "a5d66481",
      "metadata": {
        "id": "a5d66481"
      },
      "source": [
        "# Get the data (only once)"
      ]
    },
    {
      "cell_type": "markdown",
      "id": "2e46fb31",
      "metadata": {
        "id": "2e46fb31"
      },
      "source": [
        "# eQTL"
      ]
    },
    {
      "cell_type": "markdown",
      "id": "f4357129",
      "metadata": {
        "id": "f4357129"
      },
      "source": [
        "## GENOA"
      ]
    },
    {
      "cell_type": "code",
      "execution_count": null,
      "id": "6bab1423",
      "metadata": {
        "id": "6bab1423"
      },
      "outputs": [],
      "source": [
        "setwd(pathdata)\n",
        "system(\"wget http://www.xzlab.org/data/AA_summary_statistics.txt.gz\")\n",
        "system(\"mv AA_summary_statistics.txt.gz GENOA_AA_summary_statistics.txt.gz\")\n",
        "system(\"wget http://www.xzlab.org/data/EA_summary_statistics.txt.gz\")\n",
        "system(\"mv EA_summary_statistics.txt.gz GENOA_EA_summary_statistics.txt.gz\")"
      ]
    },
    {
      "cell_type": "markdown",
      "id": "cd385d21",
      "metadata": {
        "id": "cd385d21"
      },
      "source": [
        "In this dataset, the effect allele is not clearly provided, but only 'allele1' which corresponds to the minor allele, and 'allele0' which corresponds to the major allele (https://xiangzhou.github.io/resources/GENOA_eQTL_README.txt). There is no example in the paper which can help to determine which is the effect allele. We will therefore here assume that the effect allele is allele1, the minor allele."
      ]
    },
    {
      "cell_type": "markdown",
      "id": "8e1e8506",
      "metadata": {
        "id": "8e1e8506"
      },
      "source": [
        "#### Transform the data in the right format"
      ]
    },
    {
      "cell_type": "code",
      "execution_count": null,
      "id": "484d0c59",
      "metadata": {
        "id": "484d0c59"
      },
      "outputs": [],
      "source": [
        "GENOA_EA <- fread(paste0(pathdata, \"GENOA_AA_summary_statistics.txt.gz\"), header = T)\n",
        "head(GENOA_EA)\n",
        "dim(GENOA_EA)\n",
        "GENOA_AA <- fread(paste0(pathdata, \"GENOA_EA_summary_statistics.txt.gz\"), header = T)\n",
        "head(GENOA_AA)\n",
        "dim(GENOA_AA)"
      ]
    },
    {
      "cell_type": "code",
      "execution_count": null,
      "id": "8aea1d60",
      "metadata": {
        "scrolled": true,
        "id": "8aea1d60"
      },
      "outputs": [],
      "source": [
        "colnames(GENOA_EA) <- colnames(GENOA_AA) <- c(\"chr\", \"mol.trait\", \"rsid\", \"pos\", \"ea\", \"nea\", \"eaf\", \"beta\", \"se\", \"pval\")\n",
        "GENOA_EA$qtl.GW <- ifelse(GENOA_EA$pval<5e-8, T, F)\n",
        "GENOA_AA$qtl.GW <- ifelse(GENOA_AA$pval<5e-8, T, F)\n",
        "GENOA_EA$qtl.study <- ifelse(GENOA_EA$pval< 1.385504e-4, T, F)\n",
        "GENOA_AA$qtl.study <- ifelse(GENOA_AA$pval< 6.245907e-5, T, F)\n",
        "GENOA_EA$n <- 801 ; GENOA_AA$n <- 1032\n",
        "GENOA_EA$ID <- paste0(GENOA_EA$chr, \":\", GENOA_EA$pos, \"_\", GENOA_EA$ea, \"_\", GENOA_EA$nea, \"_37\")\n",
        "GENOA_AA$ID <- paste0(GENOA_AA$chr, \":\", GENOA_AA$pos, \"_\", GENOA_AA$ea, \"_\", GENOA_AA$nea, \"_37\")"
      ]
    },
    {
      "cell_type": "code",
      "execution_count": null,
      "id": "9ca3d2b0",
      "metadata": {
        "id": "9ca3d2b0"
      },
      "outputs": [],
      "source": [
        "#Export the data\n",
        "data.table::fwrite(GENOA_EA, file = paste0(pathdata, \"eQTL_GENOA_plasma_EA_801_37.txt.gz\"), sep = \"\\t\")\n",
        "data.table::fwrite(GENOA_AA, file = paste0(pathdata, \"eQTL_GENOA_plasma_AA_1032_37.txt.gz\"), sep = \"\\t\")"
      ]
    },
    {
      "cell_type": "markdown",
      "id": "e0afb44a",
      "metadata": {
        "id": "e0afb44a"
      },
      "source": [
        "## GALAII and SAGE\n",
        "Look at readme_GALAII for more informations on file format"
      ]
    },
    {
      "cell_type": "code",
      "execution_count": null,
      "id": "11aac3ad",
      "metadata": {
        "id": "11aac3ad"
      },
      "outputs": [],
      "source": [
        "pop = \"AA\" #Population to consider with the GALAII study"
      ]
    },
    {
      "cell_type": "code",
      "execution_count": null,
      "id": "97c77a47",
      "metadata": {
        "id": "97c77a47"
      },
      "outputs": [],
      "source": [
        "#Import all the files, only keeping the significant QTL (column 12 from the file)\n",
        "allchr.files <- do.call(rbind, lapply(1:22, function(z) fread(cmd = paste0(\"zcat \", path_GALA, pop, \"/\", z, \".allpairs.more.galasage.hg38.txt.gz | awk '{if($12 == \\\"TRUE\\\") {print $0} }'\" ))))"
      ]
    },
    {
      "cell_type": "code",
      "execution_count": null,
      "id": "240ae7b8",
      "metadata": {
        "id": "240ae7b8",
        "outputId": "842f6a3f-5eaf-49d5-c676-ef9bbc44d762"
      },
      "outputs": [
        {
          "data": {
            "text/html": [
              "<table class=\"dataframe\">\n",
              "<caption>A data.table: 6 × 13</caption>\n",
              "<thead>\n",
              "\t<tr><th scope=col>gene_id</th><th scope=col>variant_id</th><th scope=col>tss_distance</th><th scope=col>ma_samples</th><th scope=col>ma_count</th><th scope=col>maf</th><th scope=col>pval_nominal</th><th scope=col>slope</th><th scope=col>slope_se</th><th scope=col>qval</th><th scope=col>pval_nominal_threshold</th><th scope=col>eQTL.flag</th><th scope=col>vid2</th></tr>\n",
              "\t<tr><th scope=col>&lt;chr&gt;</th><th scope=col>&lt;chr&gt;</th><th scope=col>&lt;int&gt;</th><th scope=col>&lt;int&gt;</th><th scope=col>&lt;int&gt;</th><th scope=col>&lt;dbl&gt;</th><th scope=col>&lt;dbl&gt;</th><th scope=col>&lt;dbl&gt;</th><th scope=col>&lt;dbl&gt;</th><th scope=col>&lt;dbl&gt;</th><th scope=col>&lt;dbl&gt;</th><th scope=col>&lt;lgl&gt;</th><th scope=col>&lt;chr&gt;</th></tr>\n",
              "</thead>\n",
              "<tbody>\n",
              "\t<tr><td>ENSG00000000457.14</td><td>rs74898833 </td><td>111830</td><td>109</td><td>113</td><td>0.0746367</td><td>4.17900e-16</td><td>0.624650</td><td>0.0749591</td><td>4.02204e-69</td><td>0.000467711</td><td>TRUE</td><td>chr1_170006097_A_G_b38</td></tr>\n",
              "\t<tr><td>ENSG00000000457.14</td><td>rs4656729  </td><td>108084</td><td>554</td><td>739</td><td>0.4881110</td><td>3.67768e-19</td><td>0.356575</td><td>0.0387043</td><td>4.02204e-69</td><td>0.000467711</td><td>TRUE</td><td>chr1_170002351_T_C_b38</td></tr>\n",
              "\t<tr><td>ENSG00000000457.14</td><td>rs61825344 </td><td>111776</td><td>101</td><td>105</td><td>0.0693527</td><td>2.78993e-05</td><td>0.338343</td><td>0.0802136</td><td>4.02204e-69</td><td>0.000467711</td><td>TRUE</td><td>chr1_170006043_A_C_b38</td></tr>\n",
              "\t<tr><td>ENSG00000000457.14</td><td>rs61825341 </td><td>110233</td><td>101</td><td>105</td><td>0.0693527</td><td>2.78993e-05</td><td>0.338343</td><td>0.0802136</td><td>4.02204e-69</td><td>0.000467711</td><td>TRUE</td><td>chr1_170004500_A_G_b38</td></tr>\n",
              "\t<tr><td>ENSG00000000457.14</td><td>rs151032917</td><td>111014</td><td>101</td><td>105</td><td>0.0693527</td><td>2.78993e-05</td><td>0.338343</td><td>0.0802136</td><td>4.02204e-69</td><td>0.000467711</td><td>TRUE</td><td>chr1_170005281_T_C_b38</td></tr>\n",
              "\t<tr><td>ENSG00000000457.14</td><td>rs2474708  </td><td>112955</td><td>250</td><td>273</td><td>0.1803170</td><td>8.76814e-11</td><td>0.347814</td><td>0.0527922</td><td>4.02204e-69</td><td>0.000467711</td><td>TRUE</td><td>chr1_170007222_C_T_b38</td></tr>\n",
              "</tbody>\n",
              "</table>\n"
            ],
            "text/latex": [
              "A data.table: 6 × 13\n",
              "\\begin{tabular}{lllllllllllll}\n",
              " gene\\_id & variant\\_id & tss\\_distance & ma\\_samples & ma\\_count & maf & pval\\_nominal & slope & slope\\_se & qval & pval\\_nominal\\_threshold & eQTL.flag & vid2\\\\\n",
              " <chr> & <chr> & <int> & <int> & <int> & <dbl> & <dbl> & <dbl> & <dbl> & <dbl> & <dbl> & <lgl> & <chr>\\\\\n",
              "\\hline\n",
              "\t ENSG00000000457.14 & rs74898833  & 111830 & 109 & 113 & 0.0746367 & 4.17900e-16 & 0.624650 & 0.0749591 & 4.02204e-69 & 0.000467711 & TRUE & chr1\\_170006097\\_A\\_G\\_b38\\\\\n",
              "\t ENSG00000000457.14 & rs4656729   & 108084 & 554 & 739 & 0.4881110 & 3.67768e-19 & 0.356575 & 0.0387043 & 4.02204e-69 & 0.000467711 & TRUE & chr1\\_170002351\\_T\\_C\\_b38\\\\\n",
              "\t ENSG00000000457.14 & rs61825344  & 111776 & 101 & 105 & 0.0693527 & 2.78993e-05 & 0.338343 & 0.0802136 & 4.02204e-69 & 0.000467711 & TRUE & chr1\\_170006043\\_A\\_C\\_b38\\\\\n",
              "\t ENSG00000000457.14 & rs61825341  & 110233 & 101 & 105 & 0.0693527 & 2.78993e-05 & 0.338343 & 0.0802136 & 4.02204e-69 & 0.000467711 & TRUE & chr1\\_170004500\\_A\\_G\\_b38\\\\\n",
              "\t ENSG00000000457.14 & rs151032917 & 111014 & 101 & 105 & 0.0693527 & 2.78993e-05 & 0.338343 & 0.0802136 & 4.02204e-69 & 0.000467711 & TRUE & chr1\\_170005281\\_T\\_C\\_b38\\\\\n",
              "\t ENSG00000000457.14 & rs2474708   & 112955 & 250 & 273 & 0.1803170 & 8.76814e-11 & 0.347814 & 0.0527922 & 4.02204e-69 & 0.000467711 & TRUE & chr1\\_170007222\\_C\\_T\\_b38\\\\\n",
              "\\end{tabular}\n"
            ],
            "text/markdown": [
              "\n",
              "A data.table: 6 × 13\n",
              "\n",
              "| gene_id &lt;chr&gt; | variant_id &lt;chr&gt; | tss_distance &lt;int&gt; | ma_samples &lt;int&gt; | ma_count &lt;int&gt; | maf &lt;dbl&gt; | pval_nominal &lt;dbl&gt; | slope &lt;dbl&gt; | slope_se &lt;dbl&gt; | qval &lt;dbl&gt; | pval_nominal_threshold &lt;dbl&gt; | eQTL.flag &lt;lgl&gt; | vid2 &lt;chr&gt; |\n",
              "|---|---|---|---|---|---|---|---|---|---|---|---|---|\n",
              "| ENSG00000000457.14 | rs74898833  | 111830 | 109 | 113 | 0.0746367 | 4.17900e-16 | 0.624650 | 0.0749591 | 4.02204e-69 | 0.000467711 | TRUE | chr1_170006097_A_G_b38 |\n",
              "| ENSG00000000457.14 | rs4656729   | 108084 | 554 | 739 | 0.4881110 | 3.67768e-19 | 0.356575 | 0.0387043 | 4.02204e-69 | 0.000467711 | TRUE | chr1_170002351_T_C_b38 |\n",
              "| ENSG00000000457.14 | rs61825344  | 111776 | 101 | 105 | 0.0693527 | 2.78993e-05 | 0.338343 | 0.0802136 | 4.02204e-69 | 0.000467711 | TRUE | chr1_170006043_A_C_b38 |\n",
              "| ENSG00000000457.14 | rs61825341  | 110233 | 101 | 105 | 0.0693527 | 2.78993e-05 | 0.338343 | 0.0802136 | 4.02204e-69 | 0.000467711 | TRUE | chr1_170004500_A_G_b38 |\n",
              "| ENSG00000000457.14 | rs151032917 | 111014 | 101 | 105 | 0.0693527 | 2.78993e-05 | 0.338343 | 0.0802136 | 4.02204e-69 | 0.000467711 | TRUE | chr1_170005281_T_C_b38 |\n",
              "| ENSG00000000457.14 | rs2474708   | 112955 | 250 | 273 | 0.1803170 | 8.76814e-11 | 0.347814 | 0.0527922 | 4.02204e-69 | 0.000467711 | TRUE | chr1_170007222_C_T_b38 |\n",
              "\n"
            ],
            "text/plain": [
              "  gene_id            variant_id  tss_distance ma_samples ma_count maf      \n",
              "1 ENSG00000000457.14 rs74898833  111830       109        113      0.0746367\n",
              "2 ENSG00000000457.14 rs4656729   108084       554        739      0.4881110\n",
              "3 ENSG00000000457.14 rs61825344  111776       101        105      0.0693527\n",
              "4 ENSG00000000457.14 rs61825341  110233       101        105      0.0693527\n",
              "5 ENSG00000000457.14 rs151032917 111014       101        105      0.0693527\n",
              "6 ENSG00000000457.14 rs2474708   112955       250        273      0.1803170\n",
              "  pval_nominal slope    slope_se  qval        pval_nominal_threshold eQTL.flag\n",
              "1 4.17900e-16  0.624650 0.0749591 4.02204e-69 0.000467711            TRUE     \n",
              "2 3.67768e-19  0.356575 0.0387043 4.02204e-69 0.000467711            TRUE     \n",
              "3 2.78993e-05  0.338343 0.0802136 4.02204e-69 0.000467711            TRUE     \n",
              "4 2.78993e-05  0.338343 0.0802136 4.02204e-69 0.000467711            TRUE     \n",
              "5 2.78993e-05  0.338343 0.0802136 4.02204e-69 0.000467711            TRUE     \n",
              "6 8.76814e-11  0.347814 0.0527922 4.02204e-69 0.000467711            TRUE     \n",
              "  vid2                  \n",
              "1 chr1_170006097_A_G_b38\n",
              "2 chr1_170002351_T_C_b38\n",
              "3 chr1_170006043_A_C_b38\n",
              "4 chr1_170004500_A_G_b38\n",
              "5 chr1_170005281_T_C_b38\n",
              "6 chr1_170007222_C_T_b38"
            ]
          },
          "metadata": {},
          "output_type": "display_data"
        }
      ],
      "source": [
        "colnames(allchr.files) <- c(\"gene_id\", \"variant_id\", \"tss_distance\", \"ma_samples\", \"ma_count\", \"maf\", \"pval_nominal\", \"slope\", \"slope_se\", \"qval\", \"pval_nominal_threshold\", \"eQTL.flag\", \"vid2\")\n",
        "head(allchr.files)"
      ]
    },
    {
      "cell_type": "code",
      "execution_count": null,
      "id": "e010695d",
      "metadata": {
        "id": "e010695d"
      },
      "outputs": [],
      "source": [
        "#Extract chr, pos, ref and alt\n",
        "allchr.files <- allchr.files[, c(\"chr\", \"pos\", \"ref\", \"alt\", \"build\") := tstrsplit(vid2, \"_\", fixed=TRUE)]\n",
        "allchr.files$chr <- gsub(allchr.files$chr, pattern = \"chr\", replacement = \"\")"
      ]
    },
    {
      "cell_type": "code",
      "execution_count": null,
      "id": "02cb325a",
      "metadata": {
        "id": "02cb325a",
        "outputId": "f5535f37-fce0-41d7-a63a-6ff33baeebf3"
      },
      "outputs": [
        {
          "data": {
            "text/html": [
              "<table class=\"dataframe\">\n",
              "<caption>A data.table: 6 × 18</caption>\n",
              "<thead>\n",
              "\t<tr><th scope=col>gene_id</th><th scope=col>variant_id</th><th scope=col>tss_distance</th><th scope=col>ma_samples</th><th scope=col>ma_count</th><th scope=col>maf</th><th scope=col>pval_nominal</th><th scope=col>slope</th><th scope=col>slope_se</th><th scope=col>qval</th><th scope=col>pval_nominal_threshold</th><th scope=col>eQTL.flag</th><th scope=col>vid2</th><th scope=col>chr</th><th scope=col>pos</th><th scope=col>ref</th><th scope=col>alt</th><th scope=col>build</th></tr>\n",
              "\t<tr><th scope=col>&lt;chr&gt;</th><th scope=col>&lt;chr&gt;</th><th scope=col>&lt;int&gt;</th><th scope=col>&lt;int&gt;</th><th scope=col>&lt;int&gt;</th><th scope=col>&lt;dbl&gt;</th><th scope=col>&lt;dbl&gt;</th><th scope=col>&lt;dbl&gt;</th><th scope=col>&lt;dbl&gt;</th><th scope=col>&lt;dbl&gt;</th><th scope=col>&lt;dbl&gt;</th><th scope=col>&lt;lgl&gt;</th><th scope=col>&lt;chr&gt;</th><th scope=col>&lt;chr&gt;</th><th scope=col>&lt;chr&gt;</th><th scope=col>&lt;chr&gt;</th><th scope=col>&lt;chr&gt;</th><th scope=col>&lt;chr&gt;</th></tr>\n",
              "</thead>\n",
              "<tbody>\n",
              "\t<tr><td>ENSG00000000457.14</td><td>rs74898833 </td><td>111830</td><td>109</td><td>113</td><td>0.0746367</td><td>4.17900e-16</td><td>0.624650</td><td>0.0749591</td><td>4.02204e-69</td><td>0.000467711</td><td>TRUE</td><td>chr1_170006097_A_G_b38</td><td>1</td><td>170006097</td><td>A</td><td>G</td><td>b38</td></tr>\n",
              "\t<tr><td>ENSG00000000457.14</td><td>rs4656729  </td><td>108084</td><td>554</td><td>739</td><td>0.4881110</td><td>3.67768e-19</td><td>0.356575</td><td>0.0387043</td><td>4.02204e-69</td><td>0.000467711</td><td>TRUE</td><td>chr1_170002351_T_C_b38</td><td>1</td><td>170002351</td><td>T</td><td>C</td><td>b38</td></tr>\n",
              "\t<tr><td>ENSG00000000457.14</td><td>rs61825344 </td><td>111776</td><td>101</td><td>105</td><td>0.0693527</td><td>2.78993e-05</td><td>0.338343</td><td>0.0802136</td><td>4.02204e-69</td><td>0.000467711</td><td>TRUE</td><td>chr1_170006043_A_C_b38</td><td>1</td><td>170006043</td><td>A</td><td>C</td><td>b38</td></tr>\n",
              "\t<tr><td>ENSG00000000457.14</td><td>rs61825341 </td><td>110233</td><td>101</td><td>105</td><td>0.0693527</td><td>2.78993e-05</td><td>0.338343</td><td>0.0802136</td><td>4.02204e-69</td><td>0.000467711</td><td>TRUE</td><td>chr1_170004500_A_G_b38</td><td>1</td><td>170004500</td><td>A</td><td>G</td><td>b38</td></tr>\n",
              "\t<tr><td>ENSG00000000457.14</td><td>rs151032917</td><td>111014</td><td>101</td><td>105</td><td>0.0693527</td><td>2.78993e-05</td><td>0.338343</td><td>0.0802136</td><td>4.02204e-69</td><td>0.000467711</td><td>TRUE</td><td>chr1_170005281_T_C_b38</td><td>1</td><td>170005281</td><td>T</td><td>C</td><td>b38</td></tr>\n",
              "\t<tr><td>ENSG00000000457.14</td><td>rs2474708  </td><td>112955</td><td>250</td><td>273</td><td>0.1803170</td><td>8.76814e-11</td><td>0.347814</td><td>0.0527922</td><td>4.02204e-69</td><td>0.000467711</td><td>TRUE</td><td>chr1_170007222_C_T_b38</td><td>1</td><td>170007222</td><td>C</td><td>T</td><td>b38</td></tr>\n",
              "</tbody>\n",
              "</table>\n"
            ],
            "text/latex": [
              "A data.table: 6 × 18\n",
              "\\begin{tabular}{llllllllllllllllll}\n",
              " gene\\_id & variant\\_id & tss\\_distance & ma\\_samples & ma\\_count & maf & pval\\_nominal & slope & slope\\_se & qval & pval\\_nominal\\_threshold & eQTL.flag & vid2 & chr & pos & ref & alt & build\\\\\n",
              " <chr> & <chr> & <int> & <int> & <int> & <dbl> & <dbl> & <dbl> & <dbl> & <dbl> & <dbl> & <lgl> & <chr> & <chr> & <chr> & <chr> & <chr> & <chr>\\\\\n",
              "\\hline\n",
              "\t ENSG00000000457.14 & rs74898833  & 111830 & 109 & 113 & 0.0746367 & 4.17900e-16 & 0.624650 & 0.0749591 & 4.02204e-69 & 0.000467711 & TRUE & chr1\\_170006097\\_A\\_G\\_b38 & 1 & 170006097 & A & G & b38\\\\\n",
              "\t ENSG00000000457.14 & rs4656729   & 108084 & 554 & 739 & 0.4881110 & 3.67768e-19 & 0.356575 & 0.0387043 & 4.02204e-69 & 0.000467711 & TRUE & chr1\\_170002351\\_T\\_C\\_b38 & 1 & 170002351 & T & C & b38\\\\\n",
              "\t ENSG00000000457.14 & rs61825344  & 111776 & 101 & 105 & 0.0693527 & 2.78993e-05 & 0.338343 & 0.0802136 & 4.02204e-69 & 0.000467711 & TRUE & chr1\\_170006043\\_A\\_C\\_b38 & 1 & 170006043 & A & C & b38\\\\\n",
              "\t ENSG00000000457.14 & rs61825341  & 110233 & 101 & 105 & 0.0693527 & 2.78993e-05 & 0.338343 & 0.0802136 & 4.02204e-69 & 0.000467711 & TRUE & chr1\\_170004500\\_A\\_G\\_b38 & 1 & 170004500 & A & G & b38\\\\\n",
              "\t ENSG00000000457.14 & rs151032917 & 111014 & 101 & 105 & 0.0693527 & 2.78993e-05 & 0.338343 & 0.0802136 & 4.02204e-69 & 0.000467711 & TRUE & chr1\\_170005281\\_T\\_C\\_b38 & 1 & 170005281 & T & C & b38\\\\\n",
              "\t ENSG00000000457.14 & rs2474708   & 112955 & 250 & 273 & 0.1803170 & 8.76814e-11 & 0.347814 & 0.0527922 & 4.02204e-69 & 0.000467711 & TRUE & chr1\\_170007222\\_C\\_T\\_b38 & 1 & 170007222 & C & T & b38\\\\\n",
              "\\end{tabular}\n"
            ],
            "text/markdown": [
              "\n",
              "A data.table: 6 × 18\n",
              "\n",
              "| gene_id &lt;chr&gt; | variant_id &lt;chr&gt; | tss_distance &lt;int&gt; | ma_samples &lt;int&gt; | ma_count &lt;int&gt; | maf &lt;dbl&gt; | pval_nominal &lt;dbl&gt; | slope &lt;dbl&gt; | slope_se &lt;dbl&gt; | qval &lt;dbl&gt; | pval_nominal_threshold &lt;dbl&gt; | eQTL.flag &lt;lgl&gt; | vid2 &lt;chr&gt; | chr &lt;chr&gt; | pos &lt;chr&gt; | ref &lt;chr&gt; | alt &lt;chr&gt; | build &lt;chr&gt; |\n",
              "|---|---|---|---|---|---|---|---|---|---|---|---|---|---|---|---|---|---|\n",
              "| ENSG00000000457.14 | rs74898833  | 111830 | 109 | 113 | 0.0746367 | 4.17900e-16 | 0.624650 | 0.0749591 | 4.02204e-69 | 0.000467711 | TRUE | chr1_170006097_A_G_b38 | 1 | 170006097 | A | G | b38 |\n",
              "| ENSG00000000457.14 | rs4656729   | 108084 | 554 | 739 | 0.4881110 | 3.67768e-19 | 0.356575 | 0.0387043 | 4.02204e-69 | 0.000467711 | TRUE | chr1_170002351_T_C_b38 | 1 | 170002351 | T | C | b38 |\n",
              "| ENSG00000000457.14 | rs61825344  | 111776 | 101 | 105 | 0.0693527 | 2.78993e-05 | 0.338343 | 0.0802136 | 4.02204e-69 | 0.000467711 | TRUE | chr1_170006043_A_C_b38 | 1 | 170006043 | A | C | b38 |\n",
              "| ENSG00000000457.14 | rs61825341  | 110233 | 101 | 105 | 0.0693527 | 2.78993e-05 | 0.338343 | 0.0802136 | 4.02204e-69 | 0.000467711 | TRUE | chr1_170004500_A_G_b38 | 1 | 170004500 | A | G | b38 |\n",
              "| ENSG00000000457.14 | rs151032917 | 111014 | 101 | 105 | 0.0693527 | 2.78993e-05 | 0.338343 | 0.0802136 | 4.02204e-69 | 0.000467711 | TRUE | chr1_170005281_T_C_b38 | 1 | 170005281 | T | C | b38 |\n",
              "| ENSG00000000457.14 | rs2474708   | 112955 | 250 | 273 | 0.1803170 | 8.76814e-11 | 0.347814 | 0.0527922 | 4.02204e-69 | 0.000467711 | TRUE | chr1_170007222_C_T_b38 | 1 | 170007222 | C | T | b38 |\n",
              "\n"
            ],
            "text/plain": [
              "  gene_id            variant_id  tss_distance ma_samples ma_count maf      \n",
              "1 ENSG00000000457.14 rs74898833  111830       109        113      0.0746367\n",
              "2 ENSG00000000457.14 rs4656729   108084       554        739      0.4881110\n",
              "3 ENSG00000000457.14 rs61825344  111776       101        105      0.0693527\n",
              "4 ENSG00000000457.14 rs61825341  110233       101        105      0.0693527\n",
              "5 ENSG00000000457.14 rs151032917 111014       101        105      0.0693527\n",
              "6 ENSG00000000457.14 rs2474708   112955       250        273      0.1803170\n",
              "  pval_nominal slope    slope_se  qval        pval_nominal_threshold eQTL.flag\n",
              "1 4.17900e-16  0.624650 0.0749591 4.02204e-69 0.000467711            TRUE     \n",
              "2 3.67768e-19  0.356575 0.0387043 4.02204e-69 0.000467711            TRUE     \n",
              "3 2.78993e-05  0.338343 0.0802136 4.02204e-69 0.000467711            TRUE     \n",
              "4 2.78993e-05  0.338343 0.0802136 4.02204e-69 0.000467711            TRUE     \n",
              "5 2.78993e-05  0.338343 0.0802136 4.02204e-69 0.000467711            TRUE     \n",
              "6 8.76814e-11  0.347814 0.0527922 4.02204e-69 0.000467711            TRUE     \n",
              "  vid2                   chr pos       ref alt build\n",
              "1 chr1_170006097_A_G_b38 1   170006097 A   G   b38  \n",
              "2 chr1_170002351_T_C_b38 1   170002351 T   C   b38  \n",
              "3 chr1_170006043_A_C_b38 1   170006043 A   C   b38  \n",
              "4 chr1_170004500_A_G_b38 1   170004500 A   G   b38  \n",
              "5 chr1_170005281_T_C_b38 1   170005281 T   C   b38  \n",
              "6 chr1_170007222_C_T_b38 1   170007222 C   T   b38  "
            ]
          },
          "metadata": {},
          "output_type": "display_data"
        },
        {
          "data": {
            "text/html": [
              "<style>\n",
              ".list-inline {list-style: none; margin:0; padding: 0}\n",
              ".list-inline>li {display: inline-block}\n",
              ".list-inline>li:not(:last-child)::after {content: \"\\00b7\"; padding: 0 .5ex}\n",
              "</style>\n",
              "<ol class=list-inline><li>0.010568</li><li>0.5</li></ol>\n"
            ],
            "text/latex": [
              "\\begin{enumerate*}\n",
              "\\item 0.010568\n",
              "\\item 0.5\n",
              "\\end{enumerate*}\n"
            ],
            "text/markdown": [
              "1. 0.010568\n",
              "2. 0.5\n",
              "\n",
              "\n"
            ],
            "text/plain": [
              "[1] 0.010568 0.500000"
            ]
          },
          "metadata": {},
          "output_type": "display_data"
        },
        {
          "data": {
            "text/html": [
              "0"
            ],
            "text/latex": [
              "0"
            ],
            "text/markdown": [
              "0"
            ],
            "text/plain": [
              "[1] 0"
            ]
          },
          "metadata": {},
          "output_type": "display_data"
        }
      ],
      "source": [
        "head(allchr.files)\n",
        "range(allchr.files$maf)\n",
        "sum(allchr.files$ma_count > (757*2)) #We here consider that the alt allele is the minor allele"
      ]
    },
    {
      "cell_type": "code",
      "execution_count": null,
      "id": "da8a8e74",
      "metadata": {
        "id": "da8a8e74",
        "outputId": "88aebb76-cdbe-4c16-98a3-f2f7093cbe2a"
      },
      "outputs": [
        {
          "data": {
            "text/html": [
              "<style>\n",
              ".list-inline {list-style: none; margin:0; padding: 0}\n",
              ".list-inline>li {display: inline-block}\n",
              ".list-inline>li:not(:last-child)::after {content: \"\\00b7\"; padding: 0 .5ex}\n",
              "</style>\n",
              "<ol class=list-inline><li>4282985</li><li>18</li></ol>\n"
            ],
            "text/latex": [
              "\\begin{enumerate*}\n",
              "\\item 4282985\n",
              "\\item 18\n",
              "\\end{enumerate*}\n"
            ],
            "text/markdown": [
              "1. 4282985\n",
              "2. 18\n",
              "\n",
              "\n"
            ],
            "text/plain": [
              "[1] 4282985      18"
            ]
          },
          "metadata": {},
          "output_type": "display_data"
        },
        {
          "data": {
            "text/html": [
              "<style>\n",
              ".list-inline {list-style: none; margin:0; padding: 0}\n",
              ".list-inline>li {display: inline-block}\n",
              ".list-inline>li:not(:last-child)::after {content: \"\\00b7\"; padding: 0 .5ex}\n",
              "</style>\n",
              "<ol class=list-inline><li>4282985</li><li>18</li></ol>\n"
            ],
            "text/latex": [
              "\\begin{enumerate*}\n",
              "\\item 4282985\n",
              "\\item 18\n",
              "\\end{enumerate*}\n"
            ],
            "text/markdown": [
              "1. 4282985\n",
              "2. 18\n",
              "\n",
              "\n"
            ],
            "text/plain": [
              "[1] 4282985      18"
            ]
          },
          "metadata": {},
          "output_type": "display_data"
        }
      ],
      "source": [
        "#Only keeping the significant eQTL\n",
        "allchr.files.sig <- subset(allchr.files, eQTL.flag)\n",
        "dim(allchr.files)\n",
        "dim(allchr.files.sig)"
      ]
    },
    {
      "cell_type": "code",
      "execution_count": null,
      "id": "1c8b2f4e",
      "metadata": {
        "id": "1c8b2f4e"
      },
      "outputs": [],
      "source": [
        "#Export the file\n",
        "if(pop==\"AA\"){prefix.file = \"eQTL_SAGE_\"}else{prefix.file = \"eQTL_GALAII_\"}\n",
        "system(paste0(\"mkdir -p \", pathdata, prefix.file, pop))\n",
        "if(!file.exists(paste0(pathdata, prefix.file, pop, \"/allchr.pairseQTLTRUE.more.galasage.\", pop, \".hg38.txt.gz\"))){\n",
        "    fwrite(allchr.files.sig, file = paste0(pathdata, prefix.file, pop, \"/allchr.pairseQTLTRUE.more.galasage.\", pop, \".hg38.txt.gz\"), sep = \"\\t\")\n",
        "}\n",
        "#Export the whole file for PWCoCo\n",
        "if(!file.exists(paste0(pathdata, prefix.file, pop, \"/allchr.allcisQTL.more.galasage.\", pop, \".hg38.txt.gz\"))){\n",
        "    fwrite(allchr.files, file = paste0(pathdata, prefix.file, pop, \"/allchr.allcisQTL.more.galasage.\", pop, \".hg38.txt.gz\"), sep = \"\\t\")\n",
        "}"
      ]
    },
    {
      "cell_type": "markdown",
      "id": "f261041d",
      "metadata": {
        "id": "f261041d"
      },
      "source": [
        "# eQTLGen"
      ]
    },
    {
      "cell_type": "code",
      "execution_count": null,
      "id": "1c91ebc6",
      "metadata": {
        "id": "1c91ebc6",
        "outputId": "c07eb927-0ccc-4502-eafa-ba69ce346c02"
      },
      "outputs": [
        {
          "data": {
            "text/html": [
              "<table class=\"dataframe\">\n",
              "<caption>A data.table: 6 × 15</caption>\n",
              "<thead>\n",
              "\t<tr><th scope=col>Pvalue</th><th scope=col>SNP</th><th scope=col>SNPChr</th><th scope=col>SNPPos</th><th scope=col>AssessedAllele</th><th scope=col>OtherAllele</th><th scope=col>Zscore</th><th scope=col>Gene</th><th scope=col>GeneSymbol</th><th scope=col>GeneChr</th><th scope=col>GenePos</th><th scope=col>NrCohorts</th><th scope=col>NrSamples</th><th scope=col>FDR</th><th scope=col>BonferroniP</th></tr>\n",
              "\t<tr><th scope=col>&lt;dbl&gt;</th><th scope=col>&lt;chr&gt;</th><th scope=col>&lt;int&gt;</th><th scope=col>&lt;int&gt;</th><th scope=col>&lt;chr&gt;</th><th scope=col>&lt;chr&gt;</th><th scope=col>&lt;dbl&gt;</th><th scope=col>&lt;chr&gt;</th><th scope=col>&lt;chr&gt;</th><th scope=col>&lt;int&gt;</th><th scope=col>&lt;int&gt;</th><th scope=col>&lt;int&gt;</th><th scope=col>&lt;int&gt;</th><th scope=col>&lt;dbl&gt;</th><th scope=col>&lt;dbl&gt;</th></tr>\n",
              "</thead>\n",
              "<tbody>\n",
              "\t<tr><td>3.2717e-310</td><td>rs12230244</td><td>12</td><td>10117369</td><td>T</td><td>A</td><td>200.7534</td><td>ENSG00000172322</td><td>CLEC12A</td><td>12</td><td>10126104</td><td>34</td><td>30596</td><td>0</td><td>4.1662e-302</td></tr>\n",
              "\t<tr><td>3.2717e-310</td><td>rs12229020</td><td>12</td><td>10117683</td><td>G</td><td>C</td><td>200.6568</td><td>ENSG00000172322</td><td>CLEC12A</td><td>12</td><td>10126104</td><td>34</td><td>30596</td><td>0</td><td>4.1662e-302</td></tr>\n",
              "\t<tr><td>3.2717e-310</td><td>rs61913527</td><td>12</td><td>10116198</td><td>T</td><td>C</td><td>200.2654</td><td>ENSG00000172322</td><td>CLEC12A</td><td>12</td><td>10126104</td><td>34</td><td>30598</td><td>0</td><td>4.1662e-302</td></tr>\n",
              "\t<tr><td>3.2717e-310</td><td>rs2594103 </td><td>12</td><td>10115428</td><td>T</td><td>C</td><td>200.0420</td><td>ENSG00000172322</td><td>CLEC12A</td><td>12</td><td>10126104</td><td>34</td><td>30598</td><td>0</td><td>4.1662e-302</td></tr>\n",
              "\t<tr><td>3.2717e-310</td><td>rs12231833</td><td>12</td><td>10118428</td><td>A</td><td>G</td><td>199.9508</td><td>ENSG00000172322</td><td>CLEC12A</td><td>12</td><td>10126104</td><td>34</td><td>30592</td><td>0</td><td>4.1662e-302</td></tr>\n",
              "\t<tr><td>3.2717e-310</td><td>rs12231872</td><td>12</td><td>10118747</td><td>C</td><td>G</td><td>199.7708</td><td>ENSG00000172322</td><td>CLEC12A</td><td>12</td><td>10126104</td><td>33</td><td>30268</td><td>0</td><td>4.1662e-302</td></tr>\n",
              "</tbody>\n",
              "</table>\n"
            ],
            "text/latex": [
              "A data.table: 6 × 15\n",
              "\\begin{tabular}{lllllllllllllll}\n",
              " Pvalue & SNP & SNPChr & SNPPos & AssessedAllele & OtherAllele & Zscore & Gene & GeneSymbol & GeneChr & GenePos & NrCohorts & NrSamples & FDR & BonferroniP\\\\\n",
              " <dbl> & <chr> & <int> & <int> & <chr> & <chr> & <dbl> & <chr> & <chr> & <int> & <int> & <int> & <int> & <dbl> & <dbl>\\\\\n",
              "\\hline\n",
              "\t 3.2717e-310 & rs12230244 & 12 & 10117369 & T & A & 200.7534 & ENSG00000172322 & CLEC12A & 12 & 10126104 & 34 & 30596 & 0 & 4.1662e-302\\\\\n",
              "\t 3.2717e-310 & rs12229020 & 12 & 10117683 & G & C & 200.6568 & ENSG00000172322 & CLEC12A & 12 & 10126104 & 34 & 30596 & 0 & 4.1662e-302\\\\\n",
              "\t 3.2717e-310 & rs61913527 & 12 & 10116198 & T & C & 200.2654 & ENSG00000172322 & CLEC12A & 12 & 10126104 & 34 & 30598 & 0 & 4.1662e-302\\\\\n",
              "\t 3.2717e-310 & rs2594103  & 12 & 10115428 & T & C & 200.0420 & ENSG00000172322 & CLEC12A & 12 & 10126104 & 34 & 30598 & 0 & 4.1662e-302\\\\\n",
              "\t 3.2717e-310 & rs12231833 & 12 & 10118428 & A & G & 199.9508 & ENSG00000172322 & CLEC12A & 12 & 10126104 & 34 & 30592 & 0 & 4.1662e-302\\\\\n",
              "\t 3.2717e-310 & rs12231872 & 12 & 10118747 & C & G & 199.7708 & ENSG00000172322 & CLEC12A & 12 & 10126104 & 33 & 30268 & 0 & 4.1662e-302\\\\\n",
              "\\end{tabular}\n"
            ],
            "text/markdown": [
              "\n",
              "A data.table: 6 × 15\n",
              "\n",
              "| Pvalue &lt;dbl&gt; | SNP &lt;chr&gt; | SNPChr &lt;int&gt; | SNPPos &lt;int&gt; | AssessedAllele &lt;chr&gt; | OtherAllele &lt;chr&gt; | Zscore &lt;dbl&gt; | Gene &lt;chr&gt; | GeneSymbol &lt;chr&gt; | GeneChr &lt;int&gt; | GenePos &lt;int&gt; | NrCohorts &lt;int&gt; | NrSamples &lt;int&gt; | FDR &lt;dbl&gt; | BonferroniP &lt;dbl&gt; |\n",
              "|---|---|---|---|---|---|---|---|---|---|---|---|---|---|---|\n",
              "| 3.2717e-310 | rs12230244 | 12 | 10117369 | T | A | 200.7534 | ENSG00000172322 | CLEC12A | 12 | 10126104 | 34 | 30596 | 0 | 4.1662e-302 |\n",
              "| 3.2717e-310 | rs12229020 | 12 | 10117683 | G | C | 200.6568 | ENSG00000172322 | CLEC12A | 12 | 10126104 | 34 | 30596 | 0 | 4.1662e-302 |\n",
              "| 3.2717e-310 | rs61913527 | 12 | 10116198 | T | C | 200.2654 | ENSG00000172322 | CLEC12A | 12 | 10126104 | 34 | 30598 | 0 | 4.1662e-302 |\n",
              "| 3.2717e-310 | rs2594103  | 12 | 10115428 | T | C | 200.0420 | ENSG00000172322 | CLEC12A | 12 | 10126104 | 34 | 30598 | 0 | 4.1662e-302 |\n",
              "| 3.2717e-310 | rs12231833 | 12 | 10118428 | A | G | 199.9508 | ENSG00000172322 | CLEC12A | 12 | 10126104 | 34 | 30592 | 0 | 4.1662e-302 |\n",
              "| 3.2717e-310 | rs12231872 | 12 | 10118747 | C | G | 199.7708 | ENSG00000172322 | CLEC12A | 12 | 10126104 | 33 | 30268 | 0 | 4.1662e-302 |\n",
              "\n"
            ],
            "text/plain": [
              "  Pvalue      SNP        SNPChr SNPPos   AssessedAllele OtherAllele Zscore  \n",
              "1 3.2717e-310 rs12230244 12     10117369 T              A           200.7534\n",
              "2 3.2717e-310 rs12229020 12     10117683 G              C           200.6568\n",
              "3 3.2717e-310 rs61913527 12     10116198 T              C           200.2654\n",
              "4 3.2717e-310 rs2594103  12     10115428 T              C           200.0420\n",
              "5 3.2717e-310 rs12231833 12     10118428 A              G           199.9508\n",
              "6 3.2717e-310 rs12231872 12     10118747 C              G           199.7708\n",
              "  Gene            GeneSymbol GeneChr GenePos  NrCohorts NrSamples FDR\n",
              "1 ENSG00000172322 CLEC12A    12      10126104 34        30596     0  \n",
              "2 ENSG00000172322 CLEC12A    12      10126104 34        30596     0  \n",
              "3 ENSG00000172322 CLEC12A    12      10126104 34        30598     0  \n",
              "4 ENSG00000172322 CLEC12A    12      10126104 34        30598     0  \n",
              "5 ENSG00000172322 CLEC12A    12      10126104 34        30592     0  \n",
              "6 ENSG00000172322 CLEC12A    12      10126104 33        30268     0  \n",
              "  BonferroniP\n",
              "1 4.1662e-302\n",
              "2 4.1662e-302\n",
              "3 4.1662e-302\n",
              "4 4.1662e-302\n",
              "5 4.1662e-302\n",
              "6 4.1662e-302"
            ]
          },
          "metadata": {},
          "output_type": "display_data"
        }
      ],
      "source": [
        "#Import file\n",
        "data.eQTLGen <- fread(paste0(path_eQTLGen, \"eQTLGen_2019-12-11-cis-eQTLsFDR0.05-ProbeLevel-CohortInfoRemoved-BonferroniAdded.txt.gz\"))\n",
        "head(data.eQTLGen)"
      ]
    },
    {
      "cell_type": "markdown",
      "id": "d4f009dd",
      "metadata": {
        "id": "d4f009dd"
      },
      "source": [
        "# eQTL GTEx"
      ]
    },
    {
      "cell_type": "code",
      "execution_count": null,
      "id": "ede52bbf",
      "metadata": {
        "id": "ede52bbf",
        "outputId": "383dd044-1dee-435e-d2db-a57e023306d6"
      },
      "outputs": [
        {
          "data": {
            "text/html": [
              "<table class=\"dataframe\">\n",
              "<caption>A data.frame: 6 × 12</caption>\n",
              "<thead>\n",
              "\t<tr><th></th><th scope=col>variant_id</th><th scope=col>gene_id</th><th scope=col>tss_distance</th><th scope=col>ma_samples</th><th scope=col>ma_count</th><th scope=col>maf</th><th scope=col>pval_nominal</th><th scope=col>slope</th><th scope=col>slope_se</th><th scope=col>pval_nominal_threshold</th><th scope=col>min_pval_nominal</th><th scope=col>pval_beta</th></tr>\n",
              "\t<tr><th></th><th scope=col>&lt;chr&gt;</th><th scope=col>&lt;chr&gt;</th><th scope=col>&lt;int&gt;</th><th scope=col>&lt;int&gt;</th><th scope=col>&lt;int&gt;</th><th scope=col>&lt;dbl&gt;</th><th scope=col>&lt;dbl&gt;</th><th scope=col>&lt;dbl&gt;</th><th scope=col>&lt;dbl&gt;</th><th scope=col>&lt;dbl&gt;</th><th scope=col>&lt;dbl&gt;</th><th scope=col>&lt;dbl&gt;</th></tr>\n",
              "</thead>\n",
              "<tbody>\n",
              "\t<tr><th scope=row>1</th><td>chr1_64764_C_T_b38 </td><td>ENSG00000227232.5</td><td>  35211</td><td> 79</td><td> 80</td><td>0.0597015</td><td>1.72756e-09</td><td>0.516614</td><td>0.0844652</td><td>0.000393213</td><td>3.85133e-13</td><td>1.05258e-09</td></tr>\n",
              "\t<tr><th scope=row>2</th><td>chr1_665098_G_A_b38</td><td>ENSG00000227232.5</td><td> 635545</td><td>140</td><td>146</td><td>0.1089550</td><td>8.84898e-13</td><td>0.462697</td><td>0.0633368</td><td>0.000393213</td><td>3.85133e-13</td><td>1.05258e-09</td></tr>\n",
              "\t<tr><th scope=row>3</th><td>chr1_666028_G_A_b38</td><td>ENSG00000227232.5</td><td> 636475</td><td>125</td><td>131</td><td>0.0977612</td><td>3.85133e-13</td><td>0.489662</td><td>0.0659359</td><td>0.000393213</td><td>3.85133e-13</td><td>1.05258e-09</td></tr>\n",
              "\t<tr><th scope=row>4</th><td>chr1_17556_C_T_b38 </td><td>ENSG00000238009.6</td><td>-111667</td><td> 27</td><td> 27</td><td>0.0201493</td><td>1.48531e-06</td><td>0.760661</td><td>0.1564470</td><td>0.000333231</td><td>4.99434e-31</td><td>1.05973e-25</td></tr>\n",
              "\t<tr><th scope=row>5</th><td>chr1_58814_G_A_b38 </td><td>ENSG00000238009.6</td><td> -70409</td><td>109</td><td>119</td><td>0.0888060</td><td>1.49434e-18</td><td>0.636831</td><td>0.0700984</td><td>0.000333231</td><td>4.99434e-31</td><td>1.05973e-25</td></tr>\n",
              "\t<tr><th scope=row>6</th><td>chr1_60351_A_G_b38 </td><td>ENSG00000238009.6</td><td> -68872</td><td> 83</td><td> 92</td><td>0.0686567</td><td>6.43685e-13</td><td>0.575975</td><td>0.0783446</td><td>0.000333231</td><td>4.99434e-31</td><td>1.05973e-25</td></tr>\n",
              "</tbody>\n",
              "</table>\n"
            ],
            "text/latex": [
              "A data.frame: 6 × 12\n",
              "\\begin{tabular}{r|llllllllllll}\n",
              "  & variant\\_id & gene\\_id & tss\\_distance & ma\\_samples & ma\\_count & maf & pval\\_nominal & slope & slope\\_se & pval\\_nominal\\_threshold & min\\_pval\\_nominal & pval\\_beta\\\\\n",
              "  & <chr> & <chr> & <int> & <int> & <int> & <dbl> & <dbl> & <dbl> & <dbl> & <dbl> & <dbl> & <dbl>\\\\\n",
              "\\hline\n",
              "\t1 & chr1\\_64764\\_C\\_T\\_b38  & ENSG00000227232.5 &   35211 &  79 &  80 & 0.0597015 & 1.72756e-09 & 0.516614 & 0.0844652 & 0.000393213 & 3.85133e-13 & 1.05258e-09\\\\\n",
              "\t2 & chr1\\_665098\\_G\\_A\\_b38 & ENSG00000227232.5 &  635545 & 140 & 146 & 0.1089550 & 8.84898e-13 & 0.462697 & 0.0633368 & 0.000393213 & 3.85133e-13 & 1.05258e-09\\\\\n",
              "\t3 & chr1\\_666028\\_G\\_A\\_b38 & ENSG00000227232.5 &  636475 & 125 & 131 & 0.0977612 & 3.85133e-13 & 0.489662 & 0.0659359 & 0.000393213 & 3.85133e-13 & 1.05258e-09\\\\\n",
              "\t4 & chr1\\_17556\\_C\\_T\\_b38  & ENSG00000238009.6 & -111667 &  27 &  27 & 0.0201493 & 1.48531e-06 & 0.760661 & 0.1564470 & 0.000333231 & 4.99434e-31 & 1.05973e-25\\\\\n",
              "\t5 & chr1\\_58814\\_G\\_A\\_b38  & ENSG00000238009.6 &  -70409 & 109 & 119 & 0.0888060 & 1.49434e-18 & 0.636831 & 0.0700984 & 0.000333231 & 4.99434e-31 & 1.05973e-25\\\\\n",
              "\t6 & chr1\\_60351\\_A\\_G\\_b38  & ENSG00000238009.6 &  -68872 &  83 &  92 & 0.0686567 & 6.43685e-13 & 0.575975 & 0.0783446 & 0.000333231 & 4.99434e-31 & 1.05973e-25\\\\\n",
              "\\end{tabular}\n"
            ],
            "text/markdown": [
              "\n",
              "A data.frame: 6 × 12\n",
              "\n",
              "| <!--/--> | variant_id &lt;chr&gt; | gene_id &lt;chr&gt; | tss_distance &lt;int&gt; | ma_samples &lt;int&gt; | ma_count &lt;int&gt; | maf &lt;dbl&gt; | pval_nominal &lt;dbl&gt; | slope &lt;dbl&gt; | slope_se &lt;dbl&gt; | pval_nominal_threshold &lt;dbl&gt; | min_pval_nominal &lt;dbl&gt; | pval_beta &lt;dbl&gt; |\n",
              "|---|---|---|---|---|---|---|---|---|---|---|---|---|\n",
              "| 1 | chr1_64764_C_T_b38  | ENSG00000227232.5 |   35211 |  79 |  80 | 0.0597015 | 1.72756e-09 | 0.516614 | 0.0844652 | 0.000393213 | 3.85133e-13 | 1.05258e-09 |\n",
              "| 2 | chr1_665098_G_A_b38 | ENSG00000227232.5 |  635545 | 140 | 146 | 0.1089550 | 8.84898e-13 | 0.462697 | 0.0633368 | 0.000393213 | 3.85133e-13 | 1.05258e-09 |\n",
              "| 3 | chr1_666028_G_A_b38 | ENSG00000227232.5 |  636475 | 125 | 131 | 0.0977612 | 3.85133e-13 | 0.489662 | 0.0659359 | 0.000393213 | 3.85133e-13 | 1.05258e-09 |\n",
              "| 4 | chr1_17556_C_T_b38  | ENSG00000238009.6 | -111667 |  27 |  27 | 0.0201493 | 1.48531e-06 | 0.760661 | 0.1564470 | 0.000333231 | 4.99434e-31 | 1.05973e-25 |\n",
              "| 5 | chr1_58814_G_A_b38  | ENSG00000238009.6 |  -70409 | 109 | 119 | 0.0888060 | 1.49434e-18 | 0.636831 | 0.0700984 | 0.000333231 | 4.99434e-31 | 1.05973e-25 |\n",
              "| 6 | chr1_60351_A_G_b38  | ENSG00000238009.6 |  -68872 |  83 |  92 | 0.0686567 | 6.43685e-13 | 0.575975 | 0.0783446 | 0.000333231 | 4.99434e-31 | 1.05973e-25 |\n",
              "\n"
            ],
            "text/plain": [
              "  variant_id          gene_id           tss_distance ma_samples ma_count\n",
              "1 chr1_64764_C_T_b38  ENSG00000227232.5   35211       79         80     \n",
              "2 chr1_665098_G_A_b38 ENSG00000227232.5  635545      140        146     \n",
              "3 chr1_666028_G_A_b38 ENSG00000227232.5  636475      125        131     \n",
              "4 chr1_17556_C_T_b38  ENSG00000238009.6 -111667       27         27     \n",
              "5 chr1_58814_G_A_b38  ENSG00000238009.6  -70409      109        119     \n",
              "6 chr1_60351_A_G_b38  ENSG00000238009.6  -68872       83         92     \n",
              "  maf       pval_nominal slope    slope_se  pval_nominal_threshold\n",
              "1 0.0597015 1.72756e-09  0.516614 0.0844652 0.000393213           \n",
              "2 0.1089550 8.84898e-13  0.462697 0.0633368 0.000393213           \n",
              "3 0.0977612 3.85133e-13  0.489662 0.0659359 0.000393213           \n",
              "4 0.0201493 1.48531e-06  0.760661 0.1564470 0.000333231           \n",
              "5 0.0888060 1.49434e-18  0.636831 0.0700984 0.000333231           \n",
              "6 0.0686567 6.43685e-13  0.575975 0.0783446 0.000333231           \n",
              "  min_pval_nominal pval_beta  \n",
              "1 3.85133e-13      1.05258e-09\n",
              "2 3.85133e-13      1.05258e-09\n",
              "3 3.85133e-13      1.05258e-09\n",
              "4 4.99434e-31      1.05973e-25\n",
              "5 4.99434e-31      1.05973e-25\n",
              "6 4.99434e-31      1.05973e-25"
            ]
          },
          "metadata": {},
          "output_type": "display_data"
        }
      ],
      "source": [
        "# Import the eQTL data for all significant cis pairs (has been downloaded from https://www.gtexportal.org/home/downloads/adult-gtex/qtl)\n",
        "GTEx.cis.blood.sig <- as.data.frame(fread(\"/lustre/groups/itg/teams/zeggini/projects/T2D-diamante/T2DGGI_MR/datasets/GTEx/GTEx_Analysis_v8_eQTL/Whole_Blood.v8.signif_variant_gene_pairs.txt.gz\"))\n",
        "head(GTEx.cis.blood.sig)"
      ]
    },
    {
      "cell_type": "code",
      "execution_count": null,
      "id": "0c842dd1",
      "metadata": {
        "id": "0c842dd1"
      },
      "outputs": [],
      "source": [
        "# Extract chr pos ref alt\n",
        "chrposrefalt <- lapply(GTEx.cis.blood.sig[,\"variant_id\"], function(z) strsplit(z, split = \"_\"))"
      ]
    },
    {
      "cell_type": "code",
      "execution_count": null,
      "id": "b9357919",
      "metadata": {
        "id": "b9357919"
      },
      "outputs": [],
      "source": [
        "GTEx.cis.blood.sig$chr <- unlist(lapply(chrposrefalt, function(z) gsub(z[[1]][1], pattern = \"chr\", replacement = \"\")))\n",
        "GTEx.cis.blood.sig$pos <- unlist(lapply(chrposrefalt, function(z) z[[1]][2]))\n",
        "GTEx.cis.blood.sig$ref <- unlist(lapply(chrposrefalt, function(z) z[[1]][3]))\n",
        "GTEx.cis.blood.sig$alt <- unlist(lapply(chrposrefalt, function(z) z[[1]][4]))"
      ]
    },
    {
      "cell_type": "code",
      "execution_count": null,
      "id": "916067ff",
      "metadata": {
        "id": "916067ff",
        "outputId": "ead27906-cf81-47c7-dd1a-6e7ee7a1691f"
      },
      "outputs": [
        {
          "data": {
            "text/html": [
              "<table class=\"dataframe\">\n",
              "<caption>A data.frame: 6 × 16</caption>\n",
              "<thead>\n",
              "\t<tr><th></th><th scope=col>variant_id</th><th scope=col>gene_id</th><th scope=col>tss_distance</th><th scope=col>ma_samples</th><th scope=col>ma_count</th><th scope=col>maf</th><th scope=col>pval_nominal</th><th scope=col>slope</th><th scope=col>slope_se</th><th scope=col>pval_nominal_threshold</th><th scope=col>min_pval_nominal</th><th scope=col>pval_beta</th><th scope=col>chr</th><th scope=col>pos</th><th scope=col>ref</th><th scope=col>alt</th></tr>\n",
              "\t<tr><th></th><th scope=col>&lt;chr&gt;</th><th scope=col>&lt;chr&gt;</th><th scope=col>&lt;int&gt;</th><th scope=col>&lt;int&gt;</th><th scope=col>&lt;int&gt;</th><th scope=col>&lt;dbl&gt;</th><th scope=col>&lt;dbl&gt;</th><th scope=col>&lt;dbl&gt;</th><th scope=col>&lt;dbl&gt;</th><th scope=col>&lt;dbl&gt;</th><th scope=col>&lt;dbl&gt;</th><th scope=col>&lt;dbl&gt;</th><th scope=col>&lt;chr&gt;</th><th scope=col>&lt;chr&gt;</th><th scope=col>&lt;chr&gt;</th><th scope=col>&lt;chr&gt;</th></tr>\n",
              "</thead>\n",
              "<tbody>\n",
              "\t<tr><th scope=row>1</th><td>chr1_64764_C_T_b38 </td><td>ENSG00000227232.5</td><td>  35211</td><td> 79</td><td> 80</td><td>0.0597015</td><td>1.72756e-09</td><td>0.516614</td><td>0.0844652</td><td>0.000393213</td><td>3.85133e-13</td><td>1.05258e-09</td><td>1</td><td>64764 </td><td>C</td><td>T</td></tr>\n",
              "\t<tr><th scope=row>2</th><td>chr1_665098_G_A_b38</td><td>ENSG00000227232.5</td><td> 635545</td><td>140</td><td>146</td><td>0.1089550</td><td>8.84898e-13</td><td>0.462697</td><td>0.0633368</td><td>0.000393213</td><td>3.85133e-13</td><td>1.05258e-09</td><td>1</td><td>665098</td><td>G</td><td>A</td></tr>\n",
              "\t<tr><th scope=row>3</th><td>chr1_666028_G_A_b38</td><td>ENSG00000227232.5</td><td> 636475</td><td>125</td><td>131</td><td>0.0977612</td><td>3.85133e-13</td><td>0.489662</td><td>0.0659359</td><td>0.000393213</td><td>3.85133e-13</td><td>1.05258e-09</td><td>1</td><td>666028</td><td>G</td><td>A</td></tr>\n",
              "\t<tr><th scope=row>4</th><td>chr1_17556_C_T_b38 </td><td>ENSG00000238009.6</td><td>-111667</td><td> 27</td><td> 27</td><td>0.0201493</td><td>1.48531e-06</td><td>0.760661</td><td>0.1564470</td><td>0.000333231</td><td>4.99434e-31</td><td>1.05973e-25</td><td>1</td><td>17556 </td><td>C</td><td>T</td></tr>\n",
              "\t<tr><th scope=row>5</th><td>chr1_58814_G_A_b38 </td><td>ENSG00000238009.6</td><td> -70409</td><td>109</td><td>119</td><td>0.0888060</td><td>1.49434e-18</td><td>0.636831</td><td>0.0700984</td><td>0.000333231</td><td>4.99434e-31</td><td>1.05973e-25</td><td>1</td><td>58814 </td><td>G</td><td>A</td></tr>\n",
              "\t<tr><th scope=row>6</th><td>chr1_60351_A_G_b38 </td><td>ENSG00000238009.6</td><td> -68872</td><td> 83</td><td> 92</td><td>0.0686567</td><td>6.43685e-13</td><td>0.575975</td><td>0.0783446</td><td>0.000333231</td><td>4.99434e-31</td><td>1.05973e-25</td><td>1</td><td>60351 </td><td>A</td><td>G</td></tr>\n",
              "</tbody>\n",
              "</table>\n"
            ],
            "text/latex": [
              "A data.frame: 6 × 16\n",
              "\\begin{tabular}{r|llllllllllllllll}\n",
              "  & variant\\_id & gene\\_id & tss\\_distance & ma\\_samples & ma\\_count & maf & pval\\_nominal & slope & slope\\_se & pval\\_nominal\\_threshold & min\\_pval\\_nominal & pval\\_beta & chr & pos & ref & alt\\\\\n",
              "  & <chr> & <chr> & <int> & <int> & <int> & <dbl> & <dbl> & <dbl> & <dbl> & <dbl> & <dbl> & <dbl> & <chr> & <chr> & <chr> & <chr>\\\\\n",
              "\\hline\n",
              "\t1 & chr1\\_64764\\_C\\_T\\_b38  & ENSG00000227232.5 &   35211 &  79 &  80 & 0.0597015 & 1.72756e-09 & 0.516614 & 0.0844652 & 0.000393213 & 3.85133e-13 & 1.05258e-09 & 1 & 64764  & C & T\\\\\n",
              "\t2 & chr1\\_665098\\_G\\_A\\_b38 & ENSG00000227232.5 &  635545 & 140 & 146 & 0.1089550 & 8.84898e-13 & 0.462697 & 0.0633368 & 0.000393213 & 3.85133e-13 & 1.05258e-09 & 1 & 665098 & G & A\\\\\n",
              "\t3 & chr1\\_666028\\_G\\_A\\_b38 & ENSG00000227232.5 &  636475 & 125 & 131 & 0.0977612 & 3.85133e-13 & 0.489662 & 0.0659359 & 0.000393213 & 3.85133e-13 & 1.05258e-09 & 1 & 666028 & G & A\\\\\n",
              "\t4 & chr1\\_17556\\_C\\_T\\_b38  & ENSG00000238009.6 & -111667 &  27 &  27 & 0.0201493 & 1.48531e-06 & 0.760661 & 0.1564470 & 0.000333231 & 4.99434e-31 & 1.05973e-25 & 1 & 17556  & C & T\\\\\n",
              "\t5 & chr1\\_58814\\_G\\_A\\_b38  & ENSG00000238009.6 &  -70409 & 109 & 119 & 0.0888060 & 1.49434e-18 & 0.636831 & 0.0700984 & 0.000333231 & 4.99434e-31 & 1.05973e-25 & 1 & 58814  & G & A\\\\\n",
              "\t6 & chr1\\_60351\\_A\\_G\\_b38  & ENSG00000238009.6 &  -68872 &  83 &  92 & 0.0686567 & 6.43685e-13 & 0.575975 & 0.0783446 & 0.000333231 & 4.99434e-31 & 1.05973e-25 & 1 & 60351  & A & G\\\\\n",
              "\\end{tabular}\n"
            ],
            "text/markdown": [
              "\n",
              "A data.frame: 6 × 16\n",
              "\n",
              "| <!--/--> | variant_id &lt;chr&gt; | gene_id &lt;chr&gt; | tss_distance &lt;int&gt; | ma_samples &lt;int&gt; | ma_count &lt;int&gt; | maf &lt;dbl&gt; | pval_nominal &lt;dbl&gt; | slope &lt;dbl&gt; | slope_se &lt;dbl&gt; | pval_nominal_threshold &lt;dbl&gt; | min_pval_nominal &lt;dbl&gt; | pval_beta &lt;dbl&gt; | chr &lt;chr&gt; | pos &lt;chr&gt; | ref &lt;chr&gt; | alt &lt;chr&gt; |\n",
              "|---|---|---|---|---|---|---|---|---|---|---|---|---|---|---|---|---|\n",
              "| 1 | chr1_64764_C_T_b38  | ENSG00000227232.5 |   35211 |  79 |  80 | 0.0597015 | 1.72756e-09 | 0.516614 | 0.0844652 | 0.000393213 | 3.85133e-13 | 1.05258e-09 | 1 | 64764  | C | T |\n",
              "| 2 | chr1_665098_G_A_b38 | ENSG00000227232.5 |  635545 | 140 | 146 | 0.1089550 | 8.84898e-13 | 0.462697 | 0.0633368 | 0.000393213 | 3.85133e-13 | 1.05258e-09 | 1 | 665098 | G | A |\n",
              "| 3 | chr1_666028_G_A_b38 | ENSG00000227232.5 |  636475 | 125 | 131 | 0.0977612 | 3.85133e-13 | 0.489662 | 0.0659359 | 0.000393213 | 3.85133e-13 | 1.05258e-09 | 1 | 666028 | G | A |\n",
              "| 4 | chr1_17556_C_T_b38  | ENSG00000238009.6 | -111667 |  27 |  27 | 0.0201493 | 1.48531e-06 | 0.760661 | 0.1564470 | 0.000333231 | 4.99434e-31 | 1.05973e-25 | 1 | 17556  | C | T |\n",
              "| 5 | chr1_58814_G_A_b38  | ENSG00000238009.6 |  -70409 | 109 | 119 | 0.0888060 | 1.49434e-18 | 0.636831 | 0.0700984 | 0.000333231 | 4.99434e-31 | 1.05973e-25 | 1 | 58814  | G | A |\n",
              "| 6 | chr1_60351_A_G_b38  | ENSG00000238009.6 |  -68872 |  83 |  92 | 0.0686567 | 6.43685e-13 | 0.575975 | 0.0783446 | 0.000333231 | 4.99434e-31 | 1.05973e-25 | 1 | 60351  | A | G |\n",
              "\n"
            ],
            "text/plain": [
              "  variant_id          gene_id           tss_distance ma_samples ma_count\n",
              "1 chr1_64764_C_T_b38  ENSG00000227232.5   35211       79         80     \n",
              "2 chr1_665098_G_A_b38 ENSG00000227232.5  635545      140        146     \n",
              "3 chr1_666028_G_A_b38 ENSG00000227232.5  636475      125        131     \n",
              "4 chr1_17556_C_T_b38  ENSG00000238009.6 -111667       27         27     \n",
              "5 chr1_58814_G_A_b38  ENSG00000238009.6  -70409      109        119     \n",
              "6 chr1_60351_A_G_b38  ENSG00000238009.6  -68872       83         92     \n",
              "  maf       pval_nominal slope    slope_se  pval_nominal_threshold\n",
              "1 0.0597015 1.72756e-09  0.516614 0.0844652 0.000393213           \n",
              "2 0.1089550 8.84898e-13  0.462697 0.0633368 0.000393213           \n",
              "3 0.0977612 3.85133e-13  0.489662 0.0659359 0.000393213           \n",
              "4 0.0201493 1.48531e-06  0.760661 0.1564470 0.000333231           \n",
              "5 0.0888060 1.49434e-18  0.636831 0.0700984 0.000333231           \n",
              "6 0.0686567 6.43685e-13  0.575975 0.0783446 0.000333231           \n",
              "  min_pval_nominal pval_beta   chr pos    ref alt\n",
              "1 3.85133e-13      1.05258e-09 1   64764  C   T  \n",
              "2 3.85133e-13      1.05258e-09 1   665098 G   A  \n",
              "3 3.85133e-13      1.05258e-09 1   666028 G   A  \n",
              "4 4.99434e-31      1.05973e-25 1   17556  C   T  \n",
              "5 4.99434e-31      1.05973e-25 1   58814  G   A  \n",
              "6 4.99434e-31      1.05973e-25 1   60351  A   G  "
            ]
          },
          "metadata": {},
          "output_type": "display_data"
        },
        {
          "data": {
            "text/html": [
              "<style>\n",
              ".list-inline {list-style: none; margin:0; padding: 0}\n",
              ".list-inline>li {display: inline-block}\n",
              ".list-inline>li:not(:last-child)::after {content: \"\\00b7\"; padding: 0 .5ex}\n",
              "</style>\n",
              "<ol class=list-inline><li>0.00447761</li><li>0.5</li></ol>\n"
            ],
            "text/latex": [
              "\\begin{enumerate*}\n",
              "\\item 0.00447761\n",
              "\\item 0.5\n",
              "\\end{enumerate*}\n"
            ],
            "text/markdown": [
              "1. 0.00447761\n",
              "2. 0.5\n",
              "\n",
              "\n"
            ],
            "text/plain": [
              "[1] 0.00447761 0.50000000"
            ]
          },
          "metadata": {},
          "output_type": "display_data"
        },
        {
          "data": {
            "text/html": [
              "0"
            ],
            "text/latex": [
              "0"
            ],
            "text/markdown": [
              "0"
            ],
            "text/plain": [
              "[1] 0"
            ]
          },
          "metadata": {},
          "output_type": "display_data"
        }
      ],
      "source": [
        "head(GTEx.cis.blood.sig)\n",
        "range(GTEx.cis.blood.sig$maf)\n",
        "sum(GTEx.cis.blood.sig$ma_count > (620*2))\n",
        "#Here we consider than maf is frequency of alternative allele"
      ]
    },
    {
      "cell_type": "code",
      "execution_count": null,
      "id": "210787f5",
      "metadata": {
        "id": "210787f5"
      },
      "outputs": [],
      "source": [
        "#Export the file\n",
        "system(paste0(\"mkdir -p \", pathdata, \"eQTL_GTEx_EUR/\"))\n",
        "if(!file.exists(paste0(pathdata, \"/eQTL_GTEx_EUR/Whole_Blood.v8.signif_variant_gene_pairs.txt.gz\"))){\n",
        "    fwrite(GTEx.cis.blood.sig, file = paste0(pathdata, \"/eQTL_GTEx_EUR/Whole_Blood.v8.signif_variant_gene_pairs_chrpos.txt.gz\"), sep = \"\\t\")\n",
        "}"
      ]
    },
    {
      "cell_type": "markdown",
      "id": "04586918",
      "metadata": {
        "id": "04586918"
      },
      "source": [
        "## eQTLGen"
      ]
    },
    {
      "cell_type": "code",
      "execution_count": null,
      "id": "4a67cb34",
      "metadata": {
        "id": "4a67cb34",
        "outputId": "0755b156-36dd-4a33-a4a9-55edba1d98bd"
      },
      "outputs": [
        {
          "data": {
            "text/html": [
              "<table class=\"dataframe\">\n",
              "<caption>A data.frame: 6 × 7</caption>\n",
              "<thead>\n",
              "\t<tr><th></th><th scope=col>SNPChr</th><th scope=col>SNP</th><th scope=col>V3</th><th scope=col>SNPPos</th><th scope=col>AssessedAllele</th><th scope=col>OtherAllele</th><th scope=col>Freq</th></tr>\n",
              "\t<tr><th></th><th scope=col>&lt;int&gt;</th><th scope=col>&lt;chr&gt;</th><th scope=col>&lt;int&gt;</th><th scope=col>&lt;int&gt;</th><th scope=col>&lt;chr&gt;</th><th scope=col>&lt;chr&gt;</th><th scope=col>&lt;dbl&gt;</th></tr>\n",
              "</thead>\n",
              "<tbody>\n",
              "\t<tr><th scope=row>1</th><td>1</td><td>rs181431124</td><td>0</td><td> 64649</td><td>C</td><td>A</td><td>0.0111492</td></tr>\n",
              "\t<tr><th scope=row>2</th><td>1</td><td>rs147502335</td><td>0</td><td>135203</td><td>A</td><td>G</td><td>0.0237430</td></tr>\n",
              "\t<tr><th scope=row>3</th><td>1</td><td>rs147589465</td><td>0</td><td>240789</td><td>G</td><td>T</td><td>0.0117032</td></tr>\n",
              "\t<tr><th scope=row>4</th><td>1</td><td>rs145971835</td><td>0</td><td>534545</td><td>A</td><td>G</td><td>0.1064190</td></tr>\n",
              "\t<tr><th scope=row>5</th><td>1</td><td>rs148329687</td><td>0</td><td>568709</td><td>G</td><td>A</td><td>0.0636833</td></tr>\n",
              "\t<tr><th scope=row>6</th><td>1</td><td>rs140832136</td><td>0</td><td>603505</td><td>C</td><td>A</td><td>0.0227799</td></tr>\n",
              "</tbody>\n",
              "</table>\n"
            ],
            "text/latex": [
              "A data.frame: 6 × 7\n",
              "\\begin{tabular}{r|lllllll}\n",
              "  & SNPChr & SNP & V3 & SNPPos & AssessedAllele & OtherAllele & Freq\\\\\n",
              "  & <int> & <chr> & <int> & <int> & <chr> & <chr> & <dbl>\\\\\n",
              "\\hline\n",
              "\t1 & 1 & rs181431124 & 0 &  64649 & C & A & 0.0111492\\\\\n",
              "\t2 & 1 & rs147502335 & 0 & 135203 & A & G & 0.0237430\\\\\n",
              "\t3 & 1 & rs147589465 & 0 & 240789 & G & T & 0.0117032\\\\\n",
              "\t4 & 1 & rs145971835 & 0 & 534545 & A & G & 0.1064190\\\\\n",
              "\t5 & 1 & rs148329687 & 0 & 568709 & G & A & 0.0636833\\\\\n",
              "\t6 & 1 & rs140832136 & 0 & 603505 & C & A & 0.0227799\\\\\n",
              "\\end{tabular}\n"
            ],
            "text/markdown": [
              "\n",
              "A data.frame: 6 × 7\n",
              "\n",
              "| <!--/--> | SNPChr &lt;int&gt; | SNP &lt;chr&gt; | V3 &lt;int&gt; | SNPPos &lt;int&gt; | AssessedAllele &lt;chr&gt; | OtherAllele &lt;chr&gt; | Freq &lt;dbl&gt; |\n",
              "|---|---|---|---|---|---|---|---|\n",
              "| 1 | 1 | rs181431124 | 0 |  64649 | C | A | 0.0111492 |\n",
              "| 2 | 1 | rs147502335 | 0 | 135203 | A | G | 0.0237430 |\n",
              "| 3 | 1 | rs147589465 | 0 | 240789 | G | T | 0.0117032 |\n",
              "| 4 | 1 | rs145971835 | 0 | 534545 | A | G | 0.1064190 |\n",
              "| 5 | 1 | rs148329687 | 0 | 568709 | G | A | 0.0636833 |\n",
              "| 6 | 1 | rs140832136 | 0 | 603505 | C | A | 0.0227799 |\n",
              "\n"
            ],
            "text/plain": [
              "  SNPChr SNP         V3 SNPPos AssessedAllele OtherAllele Freq     \n",
              "1 1      rs181431124 0   64649 C              A           0.0111492\n",
              "2 1      rs147502335 0  135203 A              G           0.0237430\n",
              "3 1      rs147589465 0  240789 G              T           0.0117032\n",
              "4 1      rs145971835 0  534545 A              G           0.1064190\n",
              "5 1      rs148329687 0  568709 G              A           0.0636833\n",
              "6 1      rs140832136 0  603505 C              A           0.0227799"
            ]
          },
          "metadata": {},
          "output_type": "display_data"
        },
        {
          "data": {
            "text/html": [
              "<table class=\"dataframe\">\n",
              "<caption>A data.frame: 6 × 15</caption>\n",
              "<thead>\n",
              "\t<tr><th></th><th scope=col>Pvalue</th><th scope=col>SNP</th><th scope=col>SNPChr</th><th scope=col>SNPPos</th><th scope=col>AssessedAllele</th><th scope=col>OtherAllele</th><th scope=col>Zscore</th><th scope=col>Gene</th><th scope=col>GeneSymbol</th><th scope=col>GeneChr</th><th scope=col>GenePos</th><th scope=col>NrCohorts</th><th scope=col>NrSamples</th><th scope=col>FDR</th><th scope=col>BonferroniP</th></tr>\n",
              "\t<tr><th></th><th scope=col>&lt;dbl&gt;</th><th scope=col>&lt;chr&gt;</th><th scope=col>&lt;int&gt;</th><th scope=col>&lt;int&gt;</th><th scope=col>&lt;chr&gt;</th><th scope=col>&lt;chr&gt;</th><th scope=col>&lt;dbl&gt;</th><th scope=col>&lt;chr&gt;</th><th scope=col>&lt;chr&gt;</th><th scope=col>&lt;int&gt;</th><th scope=col>&lt;int&gt;</th><th scope=col>&lt;int&gt;</th><th scope=col>&lt;int&gt;</th><th scope=col>&lt;dbl&gt;</th><th scope=col>&lt;dbl&gt;</th></tr>\n",
              "</thead>\n",
              "<tbody>\n",
              "\t<tr><th scope=row>1</th><td>3.2717e-310</td><td>rs12230244</td><td>12</td><td>10117369</td><td>T</td><td>A</td><td>200.7534</td><td>ENSG00000172322</td><td>CLEC12A</td><td>12</td><td>10126104</td><td>34</td><td>30596</td><td>0</td><td>4.1662e-302</td></tr>\n",
              "\t<tr><th scope=row>2</th><td>3.2717e-310</td><td>rs12229020</td><td>12</td><td>10117683</td><td>G</td><td>C</td><td>200.6568</td><td>ENSG00000172322</td><td>CLEC12A</td><td>12</td><td>10126104</td><td>34</td><td>30596</td><td>0</td><td>4.1662e-302</td></tr>\n",
              "\t<tr><th scope=row>3</th><td>3.2717e-310</td><td>rs61913527</td><td>12</td><td>10116198</td><td>T</td><td>C</td><td>200.2654</td><td>ENSG00000172322</td><td>CLEC12A</td><td>12</td><td>10126104</td><td>34</td><td>30598</td><td>0</td><td>4.1662e-302</td></tr>\n",
              "\t<tr><th scope=row>4</th><td>3.2717e-310</td><td>rs2594103 </td><td>12</td><td>10115428</td><td>T</td><td>C</td><td>200.0420</td><td>ENSG00000172322</td><td>CLEC12A</td><td>12</td><td>10126104</td><td>34</td><td>30598</td><td>0</td><td>4.1662e-302</td></tr>\n",
              "\t<tr><th scope=row>5</th><td>3.2717e-310</td><td>rs12231833</td><td>12</td><td>10118428</td><td>A</td><td>G</td><td>199.9508</td><td>ENSG00000172322</td><td>CLEC12A</td><td>12</td><td>10126104</td><td>34</td><td>30592</td><td>0</td><td>4.1662e-302</td></tr>\n",
              "\t<tr><th scope=row>6</th><td>3.2717e-310</td><td>rs12231872</td><td>12</td><td>10118747</td><td>C</td><td>G</td><td>199.7708</td><td>ENSG00000172322</td><td>CLEC12A</td><td>12</td><td>10126104</td><td>33</td><td>30268</td><td>0</td><td>4.1662e-302</td></tr>\n",
              "</tbody>\n",
              "</table>\n"
            ],
            "text/latex": [
              "A data.frame: 6 × 15\n",
              "\\begin{tabular}{r|lllllllllllllll}\n",
              "  & Pvalue & SNP & SNPChr & SNPPos & AssessedAllele & OtherAllele & Zscore & Gene & GeneSymbol & GeneChr & GenePos & NrCohorts & NrSamples & FDR & BonferroniP\\\\\n",
              "  & <dbl> & <chr> & <int> & <int> & <chr> & <chr> & <dbl> & <chr> & <chr> & <int> & <int> & <int> & <int> & <dbl> & <dbl>\\\\\n",
              "\\hline\n",
              "\t1 & 3.2717e-310 & rs12230244 & 12 & 10117369 & T & A & 200.7534 & ENSG00000172322 & CLEC12A & 12 & 10126104 & 34 & 30596 & 0 & 4.1662e-302\\\\\n",
              "\t2 & 3.2717e-310 & rs12229020 & 12 & 10117683 & G & C & 200.6568 & ENSG00000172322 & CLEC12A & 12 & 10126104 & 34 & 30596 & 0 & 4.1662e-302\\\\\n",
              "\t3 & 3.2717e-310 & rs61913527 & 12 & 10116198 & T & C & 200.2654 & ENSG00000172322 & CLEC12A & 12 & 10126104 & 34 & 30598 & 0 & 4.1662e-302\\\\\n",
              "\t4 & 3.2717e-310 & rs2594103  & 12 & 10115428 & T & C & 200.0420 & ENSG00000172322 & CLEC12A & 12 & 10126104 & 34 & 30598 & 0 & 4.1662e-302\\\\\n",
              "\t5 & 3.2717e-310 & rs12231833 & 12 & 10118428 & A & G & 199.9508 & ENSG00000172322 & CLEC12A & 12 & 10126104 & 34 & 30592 & 0 & 4.1662e-302\\\\\n",
              "\t6 & 3.2717e-310 & rs12231872 & 12 & 10118747 & C & G & 199.7708 & ENSG00000172322 & CLEC12A & 12 & 10126104 & 33 & 30268 & 0 & 4.1662e-302\\\\\n",
              "\\end{tabular}\n"
            ],
            "text/markdown": [
              "\n",
              "A data.frame: 6 × 15\n",
              "\n",
              "| <!--/--> | Pvalue &lt;dbl&gt; | SNP &lt;chr&gt; | SNPChr &lt;int&gt; | SNPPos &lt;int&gt; | AssessedAllele &lt;chr&gt; | OtherAllele &lt;chr&gt; | Zscore &lt;dbl&gt; | Gene &lt;chr&gt; | GeneSymbol &lt;chr&gt; | GeneChr &lt;int&gt; | GenePos &lt;int&gt; | NrCohorts &lt;int&gt; | NrSamples &lt;int&gt; | FDR &lt;dbl&gt; | BonferroniP &lt;dbl&gt; |\n",
              "|---|---|---|---|---|---|---|---|---|---|---|---|---|---|---|---|\n",
              "| 1 | 3.2717e-310 | rs12230244 | 12 | 10117369 | T | A | 200.7534 | ENSG00000172322 | CLEC12A | 12 | 10126104 | 34 | 30596 | 0 | 4.1662e-302 |\n",
              "| 2 | 3.2717e-310 | rs12229020 | 12 | 10117683 | G | C | 200.6568 | ENSG00000172322 | CLEC12A | 12 | 10126104 | 34 | 30596 | 0 | 4.1662e-302 |\n",
              "| 3 | 3.2717e-310 | rs61913527 | 12 | 10116198 | T | C | 200.2654 | ENSG00000172322 | CLEC12A | 12 | 10126104 | 34 | 30598 | 0 | 4.1662e-302 |\n",
              "| 4 | 3.2717e-310 | rs2594103  | 12 | 10115428 | T | C | 200.0420 | ENSG00000172322 | CLEC12A | 12 | 10126104 | 34 | 30598 | 0 | 4.1662e-302 |\n",
              "| 5 | 3.2717e-310 | rs12231833 | 12 | 10118428 | A | G | 199.9508 | ENSG00000172322 | CLEC12A | 12 | 10126104 | 34 | 30592 | 0 | 4.1662e-302 |\n",
              "| 6 | 3.2717e-310 | rs12231872 | 12 | 10118747 | C | G | 199.7708 | ENSG00000172322 | CLEC12A | 12 | 10126104 | 33 | 30268 | 0 | 4.1662e-302 |\n",
              "\n"
            ],
            "text/plain": [
              "  Pvalue      SNP        SNPChr SNPPos   AssessedAllele OtherAllele Zscore  \n",
              "1 3.2717e-310 rs12230244 12     10117369 T              A           200.7534\n",
              "2 3.2717e-310 rs12229020 12     10117683 G              C           200.6568\n",
              "3 3.2717e-310 rs61913527 12     10116198 T              C           200.2654\n",
              "4 3.2717e-310 rs2594103  12     10115428 T              C           200.0420\n",
              "5 3.2717e-310 rs12231833 12     10118428 A              G           199.9508\n",
              "6 3.2717e-310 rs12231872 12     10118747 C              G           199.7708\n",
              "  Gene            GeneSymbol GeneChr GenePos  NrCohorts NrSamples FDR\n",
              "1 ENSG00000172322 CLEC12A    12      10126104 34        30596     0  \n",
              "2 ENSG00000172322 CLEC12A    12      10126104 34        30596     0  \n",
              "3 ENSG00000172322 CLEC12A    12      10126104 34        30598     0  \n",
              "4 ENSG00000172322 CLEC12A    12      10126104 34        30598     0  \n",
              "5 ENSG00000172322 CLEC12A    12      10126104 34        30592     0  \n",
              "6 ENSG00000172322 CLEC12A    12      10126104 33        30268     0  \n",
              "  BonferroniP\n",
              "1 4.1662e-302\n",
              "2 4.1662e-302\n",
              "3 4.1662e-302\n",
              "4 4.1662e-302\n",
              "5 4.1662e-302\n",
              "6 4.1662e-302"
            ]
          },
          "metadata": {},
          "output_type": "display_data"
        }
      ],
      "source": [
        "#Import information on the variants: frequency\n",
        "freq.eQTLGen <- as.data.frame(fread(paste0(path_eQTLGen, \"cis-eQTLs-full_eQTLGen_AF_incl_nr_formatted_20191212.new.txt_besd-dense.esi.gz\")))\n",
        "#From a few check on the file, it seems that allele in V5 is the allele with the frequency\n",
        "#Also seems to correspond to the AssessedAllele in the other file\n",
        "colnames(freq.eQTLGen) <- c(\"SNPChr\", \"SNP\", \"V3\", \"SNPPos\", \"AssessedAllele\", \"OtherAllele\", \"Freq\")\n",
        "head(freq.eQTLGen)\n",
        "#Import information on significant cisQTL\n",
        "sig.cis.eQTLGen <- as.data.frame(fread(paste0(path_eQTLGen, \"2019-12-11-cis-eQTLsFDR0.05-ProbeLevel-CohortInfoRemoved-BonferroniAdded.txt.gz\")))\n",
        "head(sig.cis.eQTLGen)"
      ]
    },
    {
      "cell_type": "code",
      "execution_count": null,
      "id": "e921dcfa",
      "metadata": {
        "id": "e921dcfa",
        "outputId": "f721cc84-86c4-432c-96cc-df98700a3aa0"
      },
      "outputs": [
        {
          "data": {
            "text/html": [
              "<style>\n",
              ".list-inline {list-style: none; margin:0; padding: 0}\n",
              ".list-inline>li {display: inline-block}\n",
              ".list-inline>li:not(:last-child)::after {content: \"\\00b7\"; padding: 0 .5ex}\n",
              "</style>\n",
              "<ol class=list-inline><li>8932843</li><li>7</li></ol>\n"
            ],
            "text/latex": [
              "\\begin{enumerate*}\n",
              "\\item 8932843\n",
              "\\item 7\n",
              "\\end{enumerate*}\n"
            ],
            "text/markdown": [
              "1. 8932843\n",
              "2. 7\n",
              "\n",
              "\n"
            ],
            "text/plain": [
              "[1] 8932843       7"
            ]
          },
          "metadata": {},
          "output_type": "display_data"
        },
        {
          "data": {
            "text/html": [
              "<style>\n",
              ".list-inline {list-style: none; margin:0; padding: 0}\n",
              ".list-inline>li {display: inline-block}\n",
              ".list-inline>li:not(:last-child)::after {content: \"\\00b7\"; padding: 0 .5ex}\n",
              "</style>\n",
              "<ol class=list-inline><li>10507664</li><li>15</li></ol>\n"
            ],
            "text/latex": [
              "\\begin{enumerate*}\n",
              "\\item 10507664\n",
              "\\item 15\n",
              "\\end{enumerate*}\n"
            ],
            "text/markdown": [
              "1. 10507664\n",
              "2. 15\n",
              "\n",
              "\n"
            ],
            "text/plain": [
              "[1] 10507664       15"
            ]
          },
          "metadata": {},
          "output_type": "display_data"
        },
        {
          "data": {
            "text/html": [
              "<style>\n",
              ".list-inline {list-style: none; margin:0; padding: 0}\n",
              ".list-inline>li {display: inline-block}\n",
              ".list-inline>li:not(:last-child)::after {content: \"\\00b7\"; padding: 0 .5ex}\n",
              "</style>\n",
              "<ol class=list-inline><li>10507664</li><li>17</li></ol>\n"
            ],
            "text/latex": [
              "\\begin{enumerate*}\n",
              "\\item 10507664\n",
              "\\item 17\n",
              "\\end{enumerate*}\n"
            ],
            "text/markdown": [
              "1. 10507664\n",
              "2. 17\n",
              "\n",
              "\n"
            ],
            "text/plain": [
              "[1] 10507664       17"
            ]
          },
          "metadata": {},
          "output_type": "display_data"
        },
        {
          "data": {
            "text/html": [
              "<table class=\"dataframe\">\n",
              "<caption>A data.frame: 6 × 17</caption>\n",
              "<thead>\n",
              "\t<tr><th></th><th scope=col>SNPChr</th><th scope=col>SNPPos</th><th scope=col>SNP</th><th scope=col>AssessedAllele</th><th scope=col>OtherAllele</th><th scope=col>Pvalue</th><th scope=col>Zscore</th><th scope=col>Gene</th><th scope=col>GeneSymbol</th><th scope=col>GeneChr</th><th scope=col>GenePos</th><th scope=col>NrCohorts</th><th scope=col>NrSamples</th><th scope=col>FDR</th><th scope=col>BonferroniP</th><th scope=col>V3</th><th scope=col>Freq</th></tr>\n",
              "\t<tr><th></th><th scope=col>&lt;int&gt;</th><th scope=col>&lt;int&gt;</th><th scope=col>&lt;chr&gt;</th><th scope=col>&lt;chr&gt;</th><th scope=col>&lt;chr&gt;</th><th scope=col>&lt;dbl&gt;</th><th scope=col>&lt;dbl&gt;</th><th scope=col>&lt;chr&gt;</th><th scope=col>&lt;chr&gt;</th><th scope=col>&lt;int&gt;</th><th scope=col>&lt;int&gt;</th><th scope=col>&lt;int&gt;</th><th scope=col>&lt;int&gt;</th><th scope=col>&lt;dbl&gt;</th><th scope=col>&lt;dbl&gt;</th><th scope=col>&lt;int&gt;</th><th scope=col>&lt;dbl&gt;</th></tr>\n",
              "</thead>\n",
              "<tbody>\n",
              "\t<tr><th scope=row>1</th><td>1</td><td>100000012</td><td>rs10875231 </td><td>T</td><td>G</td><td>3.0712e-06</td><td> -4.6660</td><td>ENSG00000079335</td><td>CDC14A  </td><td>1</td><td>100898208</td><td>36</td><td>31644</td><td>0.008209723</td><td>1.000000e+00</td><td>0</td><td>0.2681990</td></tr>\n",
              "\t<tr><th scope=row>2</th><td>1</td><td>100003419</td><td>rs114427610</td><td>T</td><td>C</td><td>1.1180e-05</td><td>  4.3931</td><td>ENSG00000122477</td><td>LRRC39  </td><td>1</td><td>100629090</td><td>28</td><td>23230</td><td>0.028987748</td><td>1.000000e+00</td><td>0</td><td>0.0321567</td></tr>\n",
              "\t<tr><th scope=row>3</th><td>1</td><td> 10000400</td><td>rs1237370  </td><td>T</td><td>A</td><td>1.1276e-64</td><td>-16.9814</td><td>ENSG00000162444</td><td>RBP7    </td><td>1</td><td> 10066671</td><td>34</td><td>31142</td><td>0.000000000</td><td>1.435900e-56</td><td>0</td><td>0.1564430</td></tr>\n",
              "\t<tr><th scope=row>4</th><td>1</td><td> 10000400</td><td>rs1237370  </td><td>T</td><td>A</td><td>1.7605e-17</td><td> -8.5085</td><td>ENSG00000130939</td><td>UBE4B   </td><td>1</td><td> 10167093</td><td>34</td><td>31142</td><td>0.000000000</td><td>2.241900e-09</td><td>0</td><td>0.1564430</td></tr>\n",
              "\t<tr><th scope=row>5</th><td>1</td><td> 10000400</td><td>rs1237370  </td><td>T</td><td>A</td><td>2.0627e-10</td><td>  6.3567</td><td>ENSG00000178585</td><td>CTNNBIP1</td><td>1</td><td>  9939364</td><td>32</td><td>30604</td><td>0.000000000</td><td>2.626679e-02</td><td>0</td><td>0.1564430</td></tr>\n",
              "\t<tr><th scope=row>6</th><td>1</td><td> 10000400</td><td>rs1237370  </td><td>T</td><td>A</td><td>2.0923e-18</td><td> -8.7521</td><td>ENSG00000054523</td><td>KIF1B   </td><td>1</td><td> 10356262</td><td>34</td><td>31142</td><td>0.000000000</td><td>2.664400e-10</td><td>0</td><td>0.1564430</td></tr>\n",
              "</tbody>\n",
              "</table>\n"
            ],
            "text/latex": [
              "A data.frame: 6 × 17\n",
              "\\begin{tabular}{r|lllllllllllllllll}\n",
              "  & SNPChr & SNPPos & SNP & AssessedAllele & OtherAllele & Pvalue & Zscore & Gene & GeneSymbol & GeneChr & GenePos & NrCohorts & NrSamples & FDR & BonferroniP & V3 & Freq\\\\\n",
              "  & <int> & <int> & <chr> & <chr> & <chr> & <dbl> & <dbl> & <chr> & <chr> & <int> & <int> & <int> & <int> & <dbl> & <dbl> & <int> & <dbl>\\\\\n",
              "\\hline\n",
              "\t1 & 1 & 100000012 & rs10875231  & T & G & 3.0712e-06 &  -4.6660 & ENSG00000079335 & CDC14A   & 1 & 100898208 & 36 & 31644 & 0.008209723 & 1.000000e+00 & 0 & 0.2681990\\\\\n",
              "\t2 & 1 & 100003419 & rs114427610 & T & C & 1.1180e-05 &   4.3931 & ENSG00000122477 & LRRC39   & 1 & 100629090 & 28 & 23230 & 0.028987748 & 1.000000e+00 & 0 & 0.0321567\\\\\n",
              "\t3 & 1 &  10000400 & rs1237370   & T & A & 1.1276e-64 & -16.9814 & ENSG00000162444 & RBP7     & 1 &  10066671 & 34 & 31142 & 0.000000000 & 1.435900e-56 & 0 & 0.1564430\\\\\n",
              "\t4 & 1 &  10000400 & rs1237370   & T & A & 1.7605e-17 &  -8.5085 & ENSG00000130939 & UBE4B    & 1 &  10167093 & 34 & 31142 & 0.000000000 & 2.241900e-09 & 0 & 0.1564430\\\\\n",
              "\t5 & 1 &  10000400 & rs1237370   & T & A & 2.0627e-10 &   6.3567 & ENSG00000178585 & CTNNBIP1 & 1 &   9939364 & 32 & 30604 & 0.000000000 & 2.626679e-02 & 0 & 0.1564430\\\\\n",
              "\t6 & 1 &  10000400 & rs1237370   & T & A & 2.0923e-18 &  -8.7521 & ENSG00000054523 & KIF1B    & 1 &  10356262 & 34 & 31142 & 0.000000000 & 2.664400e-10 & 0 & 0.1564430\\\\\n",
              "\\end{tabular}\n"
            ],
            "text/markdown": [
              "\n",
              "A data.frame: 6 × 17\n",
              "\n",
              "| <!--/--> | SNPChr &lt;int&gt; | SNPPos &lt;int&gt; | SNP &lt;chr&gt; | AssessedAllele &lt;chr&gt; | OtherAllele &lt;chr&gt; | Pvalue &lt;dbl&gt; | Zscore &lt;dbl&gt; | Gene &lt;chr&gt; | GeneSymbol &lt;chr&gt; | GeneChr &lt;int&gt; | GenePos &lt;int&gt; | NrCohorts &lt;int&gt; | NrSamples &lt;int&gt; | FDR &lt;dbl&gt; | BonferroniP &lt;dbl&gt; | V3 &lt;int&gt; | Freq &lt;dbl&gt; |\n",
              "|---|---|---|---|---|---|---|---|---|---|---|---|---|---|---|---|---|---|\n",
              "| 1 | 1 | 100000012 | rs10875231  | T | G | 3.0712e-06 |  -4.6660 | ENSG00000079335 | CDC14A   | 1 | 100898208 | 36 | 31644 | 0.008209723 | 1.000000e+00 | 0 | 0.2681990 |\n",
              "| 2 | 1 | 100003419 | rs114427610 | T | C | 1.1180e-05 |   4.3931 | ENSG00000122477 | LRRC39   | 1 | 100629090 | 28 | 23230 | 0.028987748 | 1.000000e+00 | 0 | 0.0321567 |\n",
              "| 3 | 1 |  10000400 | rs1237370   | T | A | 1.1276e-64 | -16.9814 | ENSG00000162444 | RBP7     | 1 |  10066671 | 34 | 31142 | 0.000000000 | 1.435900e-56 | 0 | 0.1564430 |\n",
              "| 4 | 1 |  10000400 | rs1237370   | T | A | 1.7605e-17 |  -8.5085 | ENSG00000130939 | UBE4B    | 1 |  10167093 | 34 | 31142 | 0.000000000 | 2.241900e-09 | 0 | 0.1564430 |\n",
              "| 5 | 1 |  10000400 | rs1237370   | T | A | 2.0627e-10 |   6.3567 | ENSG00000178585 | CTNNBIP1 | 1 |   9939364 | 32 | 30604 | 0.000000000 | 2.626679e-02 | 0 | 0.1564430 |\n",
              "| 6 | 1 |  10000400 | rs1237370   | T | A | 2.0923e-18 |  -8.7521 | ENSG00000054523 | KIF1B    | 1 |  10356262 | 34 | 31142 | 0.000000000 | 2.664400e-10 | 0 | 0.1564430 |\n",
              "\n"
            ],
            "text/plain": [
              "  SNPChr SNPPos    SNP         AssessedAllele OtherAllele Pvalue     Zscore  \n",
              "1 1      100000012 rs10875231  T              G           3.0712e-06  -4.6660\n",
              "2 1      100003419 rs114427610 T              C           1.1180e-05   4.3931\n",
              "3 1       10000400 rs1237370   T              A           1.1276e-64 -16.9814\n",
              "4 1       10000400 rs1237370   T              A           1.7605e-17  -8.5085\n",
              "5 1       10000400 rs1237370   T              A           2.0627e-10   6.3567\n",
              "6 1       10000400 rs1237370   T              A           2.0923e-18  -8.7521\n",
              "  Gene            GeneSymbol GeneChr GenePos   NrCohorts NrSamples FDR        \n",
              "1 ENSG00000079335 CDC14A     1       100898208 36        31644     0.008209723\n",
              "2 ENSG00000122477 LRRC39     1       100629090 28        23230     0.028987748\n",
              "3 ENSG00000162444 RBP7       1        10066671 34        31142     0.000000000\n",
              "4 ENSG00000130939 UBE4B      1        10167093 34        31142     0.000000000\n",
              "5 ENSG00000178585 CTNNBIP1   1         9939364 32        30604     0.000000000\n",
              "6 ENSG00000054523 KIF1B      1        10356262 34        31142     0.000000000\n",
              "  BonferroniP  V3 Freq     \n",
              "1 1.000000e+00 0  0.2681990\n",
              "2 1.000000e+00 0  0.0321567\n",
              "3 1.435900e-56 0  0.1564430\n",
              "4 2.241900e-09 0  0.1564430\n",
              "5 2.626679e-02 0  0.1564430\n",
              "6 2.664400e-10 0  0.1564430"
            ]
          },
          "metadata": {},
          "output_type": "display_data"
        }
      ],
      "source": [
        "#Combine the information\n",
        "dim(freq.eQTLGen)\n",
        "dim(sig.cis.eQTLGen)\n",
        "sig.cis.eQTLGen.freq <- merge(sig.cis.eQTLGen, freq.eQTLGen, by = c(\"SNPChr\", \"SNPPos\", \"SNP\", \"AssessedAllele\", \"OtherAllele\"))\n",
        "dim(sig.cis.eQTLGen.freq)\n",
        "head(sig.cis.eQTLGen.freq)"
      ]
    },
    {
      "cell_type": "code",
      "execution_count": null,
      "id": "05bc34d9",
      "metadata": {
        "id": "05bc34d9"
      },
      "outputs": [],
      "source": [
        "#Compute the beta based on Z-score and frequency using information in README file from https://www.eqtlgen.org/cis-eqtls.html\n",
        "sig.cis.eQTLGen.freq$beta <- sig.cis.eQTLGen.freq$Zscore / sqrt(2*sig.cis.eQTLGen.freq$Freq * (1-sig.cis.eQTLGen.freq$Freq) * (sig.cis.eQTLGen.freq$NrSamples + sig.cis.eQTLGen.freq$Zscore**2))\n",
        "sig.cis.eQTLGen.freq$se <- 1 / sqrt(2*sig.cis.eQTLGen.freq$Freq * (1-sig.cis.eQTLGen.freq$Freq) * (sig.cis.eQTLGen.freq$NrSamples + sig.cis.eQTLGen.freq$Zscore**2))"
      ]
    },
    {
      "cell_type": "code",
      "execution_count": null,
      "id": "758058ae",
      "metadata": {
        "id": "758058ae"
      },
      "outputs": [],
      "source": [
        "#Export the file\n",
        "system(paste0(\"mkdir -p \", pathdata, \"eQTL_eQTLGen_EUR\"))\n",
        "if(!file.exists(paste0(pathdata, \"eQTL_eQTLGen_EUR/2019-12-11-cis-eQTLsFDR0.05-ProbeLevel-CohortInfoRemoved-BonferroniAdded.WithBetaSe.EUR.txt.gz\"))){\n",
        "    fwrite(sig.cis.eQTLGen.freq, file = paste0(pathdata, \"eQTL_eQTLGen_EUR/2019-12-11-cis-eQTLsFDR0.05-ProbeLevel-CohortInfoRemoved-BonferroniAdded.WithBetaSe.EUR.txt.gz\"), sep = \"\\t\")\n",
        "}"
      ]
    }
  ],
  "metadata": {
    "kernelspec": {
      "display_name": "R",
      "language": "R",
      "name": "ir"
    },
    "language_info": {
      "codemirror_mode": "r",
      "file_extension": ".r",
      "mimetype": "text/x-r-source",
      "name": "R",
      "pygments_lexer": "r",
      "version": "4.2.0"
    },
    "colab": {
      "provenance": []
    }
  },
  "nbformat": 4,
  "nbformat_minor": 5
}